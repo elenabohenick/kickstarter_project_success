{
 "cells": [
  {
   "cell_type": "code",
   "execution_count": null,
   "metadata": {},
   "outputs": [],
   "source": [
    "import os\n",
    "import pandas as pd\n",
    "import zipfile"
   ]
  },
  {
   "cell_type": "code",
   "execution_count": null,
   "metadata": {},
   "outputs": [],
   "source": [
    "def open_merge(folder_name):\n",
    "    dfs = []\n",
    "    num_of_files = len(os.listdir(f\"../mcnulty_data/{folder_name}\"))\n",
    "\n",
    "    for i in range(num_of_files):\n",
    "        if i == 0:\n",
    "            num_str = ''\n",
    "        elif i < 10:\n",
    "            num_str = '00' + str(i)\n",
    "        else:\n",
    "            num_str = '0' + str(i)\n",
    "        file = f\"../mcnulty_data/{folder_name}/Kickstarter{num_str}.csv\"\n",
    "        dfs.append(pd.read_csv(file))\n",
    "    df = pd.concat(dfs).reset_index()\n",
    "    return(df)"
   ]
  },
  {
   "cell_type": "code",
   "execution_count": null,
   "metadata": {},
   "outputs": [],
   "source": [
    "csv_folders = [\n",
    "    'Kickstarter_2018-02-15T03_20_44_743Z',\n",
    "    'Kickstarter_2018-01-12T10_20_09_196Z',\n",
    "    'Kickstarter_2017-12-15T10_20_51_610Z'\n",
    "]"
   ]
  },
  {
   "cell_type": "code",
   "execution_count": null,
   "metadata": {},
   "outputs": [],
   "source": [
    "for folder in csv_folders:\n",
    "    df = open_merge(folder)\n",
    "    name = folder + '.csv'\n",
    "    df.to_csv(f\"../mcnulty_data/{folder}/{name}\")"
   ]
  }
 ],
 "metadata": {
  "kernelspec": {
   "display_name": "Python 3",
   "language": "python",
   "name": "python3"
  },
  "language_info": {
   "codemirror_mode": {
    "name": "ipython",
    "version": 3
   },
   "file_extension": ".py",
   "mimetype": "text/x-python",
   "name": "python",
   "nbconvert_exporter": "python",
   "pygments_lexer": "ipython3",
   "version": "3.6.4"
  }
 },
 "nbformat": 4,
 "nbformat_minor": 2
}
