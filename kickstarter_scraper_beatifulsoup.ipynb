{
 "cells": [
  {
   "cell_type": "code",
   "execution_count": null,
   "metadata": {},
   "outputs": [],
   "source": [
    "import requests\n",
    "from bs4 import BeautifulSoup\n",
    "import pandas as pd\n",
    "import numpy as np\n",
    "import re\n",
    "import time"
   ]
  },
  {
   "cell_type": "code",
   "execution_count": null,
   "metadata": {},
   "outputs": [],
   "source": [
    "rewards_df = pd.read_csv('../mcnulty_data/rewards_df.csv')"
   ]
  },
  {
   "cell_type": "code",
   "execution_count": null,
   "metadata": {},
   "outputs": [],
   "source": [
    "len(rewards_df)"
   ]
  },
  {
   "cell_type": "code",
   "execution_count": null,
   "metadata": {},
   "outputs": [],
   "source": [
    "def num_of_rewards(url):\n",
    "    url = url\n",
    "    headers = {'User-Agent': 'Mozilla/5.0 (Macintosh; Intel Mac OS X 10_10_1) AppleWebKit/537.36 (KHTML, like Gecko) Chrome/39.0.2171.95 Safari/537.36'}\n",
    "    response = requests.get(url, headers=headers)\n",
    "    ks_page = response.text\n",
    "    soup = BeautifulSoup(ks_page,\"html5lib\")\n",
    "    pledge_amount = soup.find_all(class_='pledge__amount')\n",
    "    \n",
    "    count = 0\n",
    "    for pledge in pledge_amount:\n",
    "        count += 1\n",
    "    return(count)"
   ]
  },
  {
   "cell_type": "code",
   "execution_count": null,
   "metadata": {},
   "outputs": [],
   "source": [
    "# split list into smaller lists\n",
    "cut_offs = list(np.arange(2500, 10000, 2500))\n",
    "\n",
    "list_rewards_slices = []\n",
    "i = 0\n",
    "for c in cut_offs:\n",
    "    list_slice = rewards_df[i:c]\n",
    "    i = c\n",
    "    list_rewards_slices.append(list_slice)"
   ]
  },
  {
   "cell_type": "code",
   "execution_count": null,
   "metadata": {},
   "outputs": [],
   "source": [
    "batch_idx = 0\n",
    "for url_batch in list_rewards_slices:\n",
    "    url_batch['rewards_count'] = [num_of_rewards(r_url) for r_url in url_batch['rewards_url']]\n",
    "    url_batch.to_csv(f'../mcnulty_data/scraped/kickstarter_project_reward_count_{batch_idx}.csv')\n",
    "    print(f'Scraped file {batch_idx}')\n",
    "    batch_idx+=1"
   ]
  },
  {
   "cell_type": "code",
   "execution_count": null,
   "metadata": {},
   "outputs": [],
   "source": []
  }
 ],
 "metadata": {
  "kernelspec": {
   "display_name": "Python 3",
   "language": "python",
   "name": "python3"
  },
  "language_info": {
   "codemirror_mode": {
    "name": "ipython",
    "version": 3
   },
   "file_extension": ".py",
   "mimetype": "text/x-python",
   "name": "python",
   "nbconvert_exporter": "python",
   "pygments_lexer": "ipython3",
   "version": "3.6.4"
  }
 },
 "nbformat": 4,
 "nbformat_minor": 2
}
