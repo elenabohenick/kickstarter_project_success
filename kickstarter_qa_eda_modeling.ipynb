{
 "cells": [
  {
   "cell_type": "code",
   "execution_count": 1,
   "metadata": {},
   "outputs": [],
   "source": [
    "import os\n",
    "import pandas as pd\n",
    "import numpy as np\n",
    "import zipfile\n",
    "import time\n",
    "import matplotlib.pyplot as plt\n",
    "import re\n",
    "import seaborn as sns\n",
    "\n",
    "%matplotlib inline"
   ]
  },
  {
   "cell_type": "markdown",
   "metadata": {},
   "source": [
    "## Data Cleaning & EDA"
   ]
  },
  {
   "cell_type": "code",
   "execution_count": 2,
   "metadata": {},
   "outputs": [
    {
     "name": "stderr",
     "output_type": "stream",
     "text": [
      "/home/ubuntu/miniconda3/lib/python3.6/site-packages/IPython/core/interactiveshell.py:2785: DtypeWarning: Columns (35,36,37,38) have mixed types. Specify dtype option on import or set low_memory=False.\n",
      "  interactivity=interactivity, compiler=compiler, result=result)\n"
     ]
    }
   ],
   "source": [
    "# import kickstarter data obtained from https://webrobots.io/kickstarter-datasets/ (2018-02-15 file)\n",
    "# the data was unziped and merged into one file\n",
    "df = pd.read_csv('../mcnulty_data/Kickstarter_2018-02-15T03_20_44_743Z.csv')"
   ]
  },
  {
   "cell_type": "code",
   "execution_count": 3,
   "metadata": {},
   "outputs": [
    {
     "name": "stdout",
     "output_type": "stream",
     "text": [
      "<class 'pandas.core.frame.DataFrame'>\n",
      "RangeIndex: 195614 entries, 0 to 195613\n",
      "Data columns (total 39 columns):\n",
      "Unnamed: 0                  195614 non-null int64\n",
      "index                       195614 non-null int64\n",
      "backers_count               195614 non-null int64\n",
      "blurb                       195603 non-null object\n",
      "category                    195614 non-null object\n",
      "converted_pledged_amount    195614 non-null int64\n",
      "country                     195614 non-null object\n",
      "created_at                  195614 non-null int64\n",
      "creator                     195614 non-null object\n",
      "currency                    195614 non-null object\n",
      "currency_symbol             195614 non-null object\n",
      "currency_trailing_code      195614 non-null bool\n",
      "current_currency            195614 non-null object\n",
      "deadline                    195614 non-null int64\n",
      "disable_communication       195614 non-null bool\n",
      "fx_rate                     195614 non-null float64\n",
      "goal                        195614 non-null float64\n",
      "id                          195614 non-null int64\n",
      "is_starrable                195614 non-null bool\n",
      "launched_at                 195614 non-null int64\n",
      "name                        195613 non-null object\n",
      "photo                       195614 non-null object\n",
      "pledged                     195614 non-null float64\n",
      "profile                     195614 non-null object\n",
      "slug                        195614 non-null object\n",
      "source_url                  195614 non-null object\n",
      "spotlight                   195614 non-null bool\n",
      "staff_pick                  195614 non-null bool\n",
      "state                       195614 non-null object\n",
      "state_changed_at            195614 non-null int64\n",
      "static_usd_rate             195614 non-null float64\n",
      "urls                        195614 non-null object\n",
      "usd_pledged                 195614 non-null float64\n",
      "usd_type                    195398 non-null object\n",
      "location                    194264 non-null object\n",
      "friends                     168 non-null object\n",
      "is_backing                  168 non-null object\n",
      "is_starred                  168 non-null object\n",
      "permissions                 168 non-null object\n",
      "dtypes: bool(5), float64(5), int64(9), object(20)\n",
      "memory usage: 51.7+ MB\n"
     ]
    }
   ],
   "source": [
    "df.info()"
   ]
  },
  {
   "cell_type": "code",
   "execution_count": 4,
   "metadata": {},
   "outputs": [],
   "source": [
    "# drop columns that mostly have Nulls and old index columns\n",
    "df.drop(labels=['Unnamed: 0','index','friends','is_backing','is_starred','permissions'],axis=1,inplace=True)"
   ]
  },
  {
   "cell_type": "code",
   "execution_count": 5,
   "metadata": {},
   "outputs": [
    {
     "data": {
      "text/plain": [
       "194037"
      ]
     },
     "execution_count": 5,
     "metadata": {},
     "output_type": "execute_result"
    }
   ],
   "source": [
    "# since there is a lot of data: drop rows containing NULLs\n",
    "df.dropna(axis=0, how='any',inplace=True)\n",
    "len(df)"
   ]
  },
  {
   "cell_type": "code",
   "execution_count": 6,
   "metadata": {
    "scrolled": true
   },
   "outputs": [
    {
     "data": {
      "text/plain": [
       "array(['successful', 'live', 'canceled', 'failed', 'suspended'],\n",
       "      dtype=object)"
      ]
     },
     "execution_count": 6,
     "metadata": {},
     "output_type": "execute_result"
    }
   ],
   "source": [
    "df.state.unique()"
   ]
  },
  {
   "cell_type": "code",
   "execution_count": 7,
   "metadata": {},
   "outputs": [
    {
     "data": {
      "text/plain": [
       "177976"
      ]
     },
     "execution_count": 7,
     "metadata": {},
     "output_type": "execute_result"
    }
   ],
   "source": [
    "# keep only completed projects with state 'successful' and 'failed' to generate the y variable\n",
    "df = df[(df['state']=='successful') | (df['state']=='failed')].copy()\n",
    "len(df)"
   ]
  },
  {
   "cell_type": "code",
   "execution_count": 8,
   "metadata": {},
   "outputs": [],
   "source": [
    "# change [state] column name and turn into bool (so 'state' can be used for US states later)\n",
    "df.rename(columns={'state':'project_success'},inplace=True)\n",
    "df['project_success'] = np.where(df['project_success']=='successful', 1, 0)"
   ]
  },
  {
   "cell_type": "code",
   "execution_count": 9,
   "metadata": {},
   "outputs": [],
   "source": [
    "# change columns containing time in epoch format to datetime\n",
    "epoch_cols = ['created_at','deadline','launched_at','state_changed_at']\n",
    "for col in epoch_cols:\n",
    "    df[col] = [time.strftime('%Y-%m-%d', time.localtime(t)) for t in df[col]]\n",
    "    df[col] = pd.to_datetime(df[col],format=\"%Y/%m/%d\")"
   ]
  },
  {
   "cell_type": "code",
   "execution_count": 10,
   "metadata": {},
   "outputs": [
    {
     "data": {
      "text/html": [
       "<div>\n",
       "<style scoped>\n",
       "    .dataframe tbody tr th:only-of-type {\n",
       "        vertical-align: middle;\n",
       "    }\n",
       "\n",
       "    .dataframe tbody tr th {\n",
       "        vertical-align: top;\n",
       "    }\n",
       "\n",
       "    .dataframe thead th {\n",
       "        text-align: right;\n",
       "    }\n",
       "</style>\n",
       "<table border=\"1\" class=\"dataframe\">\n",
       "  <thead>\n",
       "    <tr style=\"text-align: right;\">\n",
       "      <th></th>\n",
       "      <th>created_at</th>\n",
       "      <th>deadline</th>\n",
       "      <th>launched_at</th>\n",
       "      <th>state_changed_at</th>\n",
       "    </tr>\n",
       "  </thead>\n",
       "  <tbody>\n",
       "    <tr>\n",
       "      <th>0</th>\n",
       "      <td>2012-01-07</td>\n",
       "      <td>2012-04-19</td>\n",
       "      <td>2012-03-28</td>\n",
       "      <td>2012-04-19</td>\n",
       "    </tr>\n",
       "    <tr>\n",
       "      <th>1</th>\n",
       "      <td>2012-03-02</td>\n",
       "      <td>2012-04-20</td>\n",
       "      <td>2012-03-28</td>\n",
       "      <td>2012-04-20</td>\n",
       "    </tr>\n",
       "    <tr>\n",
       "      <th>2</th>\n",
       "      <td>2012-03-24</td>\n",
       "      <td>2012-04-17</td>\n",
       "      <td>2012-03-28</td>\n",
       "      <td>2012-04-17</td>\n",
       "    </tr>\n",
       "  </tbody>\n",
       "</table>\n",
       "</div>"
      ],
      "text/plain": [
       "  created_at   deadline launched_at state_changed_at\n",
       "0 2012-01-07 2012-04-19  2012-03-28       2012-04-19\n",
       "1 2012-03-02 2012-04-20  2012-03-28       2012-04-20\n",
       "2 2012-03-24 2012-04-17  2012-03-28       2012-04-17"
      ]
     },
     "execution_count": 10,
     "metadata": {},
     "output_type": "execute_result"
    }
   ],
   "source": [
    "df[['created_at','deadline','launched_at','state_changed_at']].head(3)"
   ]
  },
  {
   "cell_type": "code",
   "execution_count": 11,
   "metadata": {},
   "outputs": [
    {
     "name": "stdout",
     "output_type": "stream",
     "text": [
      "2009-04-22 00:00:00\n",
      "2018-02-12 00:00:00\n"
     ]
    }
   ],
   "source": [
    "print(df.created_at.min())\n",
    "print(df.created_at.max())"
   ]
  },
  {
   "cell_type": "code",
   "execution_count": 12,
   "metadata": {},
   "outputs": [
    {
     "data": {
      "text/plain": [
       "count    1.779760e+05\n",
       "mean     4.232395e+04\n",
       "std      1.128140e+06\n",
       "min      1.000000e-02\n",
       "25%      1.500000e+03\n",
       "50%      5.000000e+03\n",
       "75%      1.200000e+04\n",
       "max      1.000000e+08\n",
       "Name: goal, dtype: float64"
      ]
     },
     "execution_count": 12,
     "metadata": {},
     "output_type": "execute_result"
    }
   ],
   "source": [
    "# see the range for project goals\n",
    "df['goal'].describe()"
   ]
  },
  {
   "cell_type": "code",
   "execution_count": 13,
   "metadata": {},
   "outputs": [
    {
     "data": {
      "text/plain": [
       "165597"
      ]
     },
     "execution_count": 13,
     "metadata": {},
     "output_type": "execute_result"
    }
   ],
   "source": [
    "# there are projects with goal of $1. This analysis will focus on $500+ projects\n",
    "df = df[df['goal']>=500].copy()\n",
    "len(df)"
   ]
  },
  {
   "cell_type": "code",
   "execution_count": 14,
   "metadata": {},
   "outputs": [],
   "source": [
    "# create a column for a year when the project was launched\n",
    "df['launch_year']=df['launched_at'].apply(lambda x: x.year)"
   ]
  },
  {
   "cell_type": "code",
   "execution_count": 15,
   "metadata": {},
   "outputs": [
    {
     "data": {
      "image/png": "[encoded data removed]",
      "text/plain": [
       "<Figure size 432x288 with 1 Axes>"
      ]
     },
     "metadata": {},
     "output_type": "display_data"
    }
   ],
   "source": [
    "# plot number of projects launched every year\n",
    "project_count_by_year = df.groupby(by='launch_year')['id'].count()\n",
    "\n",
    "plt.bar(project_count_by_year.index, project_count_by_year.values)\n",
    "plt.xlabel('Launch Year')\n",
    "plt.xticks(project_count_by_year.index)\n",
    "plt.title('Number of Projects by Year');"
   ]
  },
  {
   "cell_type": "code",
   "execution_count": 16,
   "metadata": {},
   "outputs": [
    {
     "data": {
      "text/plain": [
       "121810"
      ]
     },
     "execution_count": 16,
     "metadata": {},
     "output_type": "execute_result"
    }
   ],
   "source": [
    "# focus analysis on just 2013_2017 projects in order to make the dataset more managable\n",
    "df = df[(df['launch_year']>=2013) & (df['launch_year']<=2017)].copy()\n",
    "len(df)"
   ]
  },
  {
   "cell_type": "code",
   "execution_count": 17,
   "metadata": {},
   "outputs": [
    {
     "data": {
      "image/png": "[encoded data removed]",
      "text/plain": [
       "<Figure size 432x288 with 1 Axes>"
      ]
     },
     "metadata": {},
     "output_type": "display_data"
    }
   ],
   "source": [
    "project_count_by_year_trimmed = df.groupby(by='launch_year')['id'].count()\n",
    "\n",
    "plt.bar(project_count_by_year_trimmed.index, project_count_by_year_trimmed.values)\n",
    "plt.xlabel('Launch Year')\n",
    "plt.xticks(project_count_by_year_trimmed.index)\n",
    "plt.title('Number of Projects by Year');"
   ]
  },
  {
   "cell_type": "code",
   "execution_count": 18,
   "metadata": {},
   "outputs": [
    {
     "data": {
      "image/png": "[encoded data removed]",
      "text/plain": [
       "<Figure size 432x288 with 1 Axes>"
      ]
     },
     "metadata": {},
     "output_type": "display_data"
    }
   ],
   "source": [
    "# check project count distribution by country\n",
    "project_by_country = df.groupby(by='country')['id'].count()\n",
    "\n",
    "plt.barh(project_by_country.index,project_by_country.values)\n",
    "plt.xlabel('Num of Projects')\n",
    "plt.title('Number of Projects by Country');"
   ]
  },
  {
   "cell_type": "code",
   "execution_count": 19,
   "metadata": {},
   "outputs": [
    {
     "data": {
      "text/plain": [
       "90850"
      ]
     },
     "execution_count": 19,
     "metadata": {},
     "output_type": "execute_result"
    }
   ],
   "source": [
    "# focus analysis only on the US projects\n",
    "df = df[df['country']=='US'].copy()\n",
    "df.drop('country',axis=1,inplace=True)\n",
    "len(df)"
   ]
  },
  {
   "cell_type": "code",
   "execution_count": 20,
   "metadata": {},
   "outputs": [
    {
     "data": {
      "text/plain": [
       "87456"
      ]
     },
     "execution_count": 20,
     "metadata": {},
     "output_type": "execute_result"
    }
   ],
   "source": [
    "# location contans contries that are non-US\n",
    "# make sure that country was note misclassified in [country] field\n",
    "\n",
    "df['country_check'] = [re.match(r'.+(\"country\":)(\"\\w\\w\").+', loc_string).group(2).replace('\"','') for loc_string in df['location']]\n",
    "df = df[df['country_check']=='US'].copy()\n",
    "df.drop('country_check',axis=1,inplace=True)\n",
    "len(df)"
   ]
  },
  {
   "cell_type": "code",
   "execution_count": 21,
   "metadata": {},
   "outputs": [
    {
     "data": {
      "text/plain": [
       "array(['PA', 'CA', 'MS', 'FL', 'VA', 'TX', 'NV', 'AL', 'LA', 'NY', 'OH',\n",
       "       'WA', 'AZ', 'IN', 'AK', 'MT', 'NJ', 'VT', 'IA', 'WI', 'ME', 'NC',\n",
       "       'TN', 'SC', 'KS', 'GA', 'MN', 'OR', 'MD', 'NH', 'HI', 'OK', 'CO',\n",
       "       'MA', 'IL', 'AR', 'MO', 'ND', 'DC', 'NM', 'UT', 'MI', 'NE', 'CT',\n",
       "       'KY', 'RI', 'ID', 'DE', 'WV', 'WY', 'SD'], dtype=object)"
      ]
     },
     "execution_count": 21,
     "metadata": {},
     "output_type": "execute_result"
    }
   ],
   "source": [
    "# create US state column\n",
    "df['state'] = [re.match(r'.+(\"state\":)(\"\\w+\").+', loc_string).group(2).replace('\"','') \n",
    "               for loc_string in df['location']]\n",
    "\n",
    "df.state.unique()"
   ]
  },
  {
   "cell_type": "code",
   "execution_count": 22,
   "metadata": {},
   "outputs": [
    {
     "data": {
      "text/plain": [
       "'{\"urls\":{\"web\":{\"discover\":\"http://www.kickstarter.com/discover/categories/art/ceramics\"}},\"color\":16760235,\"parent_id\":1,\"name\":\"Ceramics\",\"id\":287,\"position\":1,\"slug\":\"art/ceramics\"}'"
      ]
     },
     "execution_count": 22,
     "metadata": {},
     "output_type": "execute_result"
    }
   ],
   "source": [
    "# see what category var looks\n",
    "df.loc[2109,'category']"
   ]
  },
  {
   "cell_type": "code",
   "execution_count": 23,
   "metadata": {},
   "outputs": [
    {
     "data": {
      "text/plain": [
       "array(['art', 'comics', 'crafts', 'dance', 'design', 'fashion',\n",
       "       'film & video', 'food', 'games', 'journalism', 'music',\n",
       "       'photography', 'publishing', 'technology', 'theater'], dtype=object)"
      ]
     },
     "execution_count": 23,
     "metadata": {},
     "output_type": "execute_result"
    }
   ],
   "source": [
    "# extract general category\n",
    "df['gen_category'] = [cat_string.split('\"')[-2].split('/')[0] for cat_string in df['category']]\n",
    "df['gen_category'].unique()"
   ]
  },
  {
   "cell_type": "code",
   "execution_count": 24,
   "metadata": {
    "scrolled": true
   },
   "outputs": [
    {
     "data": {
      "text/plain": [
       "array(['ceramics', 'conceptual art', 'illustration', 'installations',\n",
       "       'digital art', 'mixed media', 'painting', 'performance art',\n",
       "       'public art', 'sculpture', 'comics', 'comic books', 'webcomics',\n",
       "       'graphic novels', 'anthologies', 'textiles', 'video art', 'events',\n",
       "       'crafts', 'diy', 'woodworking', 'knitting', 'printing', 'quilts',\n",
       "       'stationery', 'crochet', 'candles', 'pottery', 'embroidery',\n",
       "       'glass', 'weaving', 'taxidermy', 'performances', 'residencies',\n",
       "       'spaces', 'dance', 'workshops', 'product design', 'design',\n",
       "       'graphic design', 'civic design', 'architecture', 'typography',\n",
       "       'accessories', 'interactive design', 'apparel', 'footwear',\n",
       "       'jewelry', 'pet fashion', 'ready-to-wear', 'childrenswear',\n",
       "       'couture', 'action', 'animation', 'comedy', 'drama', 'festivals',\n",
       "       'experimental', 'family', 'horror', 'movie theaters',\n",
       "       'music videos', 'narrative film', 'fantasy', 'romance',\n",
       "       'science fiction', 'television', 'thrillers', 'webseries', 'food',\n",
       "       'restaurants', 'community gardens', 'bacon', 'cookbooks', 'drinks',\n",
       "       'farms', 'small batch', \"farmer's markets\", 'vegan', 'food trucks',\n",
       "       'tabletop games', 'games', 'video games', 'puzzles',\n",
       "       'gaming hardware', 'live games', 'mobile games', 'playing cards',\n",
       "       'web', 'video', 'journalism', 'print', 'photo', 'audio',\n",
       "       'classical music', 'electronic music', 'blues', 'chiptune',\n",
       "       'hip-hop', 'country & folk', 'faith', 'jazz', 'indie rock',\n",
       "       'metal', 'pop', 'rock', 'kids', 'latin', 'world music', 'punk',\n",
       "       'r&b', 'photography', 'fine art', 'people', 'photobooks', 'places',\n",
       "       'animals', 'nature', 'academic', 'art books', 'calendars',\n",
       "       \"children's books\", 'fiction', 'nonfiction', 'letterpress',\n",
       "       'literary journals', 'poetry', 'periodicals', 'radio & podcasts',\n",
       "       'young adult', 'zines', 'wearables', 'apps', 'diy electronics',\n",
       "       'gadgets', 'makerspaces', 'sound', 'hardware', 'robots',\n",
       "       'translations', '3d printing', 'technology', 'software',\n",
       "       'space exploration', 'camera equipment', 'flight',\n",
       "       'fabrication tools', 'literary spaces', 'musical', 'plays',\n",
       "       'immersive'], dtype=object)"
      ]
     },
     "execution_count": 24,
     "metadata": {},
     "output_type": "execute_result"
    }
   ],
   "source": [
    "# extract subcategory\n",
    "df['sub_category'] = [cat_string.split('\"')[-2].split('/')[-1] for cat_string in df['category']]\n",
    "df['sub_category'].unique()"
   ]
  },
  {
   "cell_type": "code",
   "execution_count": 25,
   "metadata": {},
   "outputs": [],
   "source": [
    "# now that we have gen- and sub-category we can get rid of raw category field\n",
    "df.drop(labels=['category'],axis=1,inplace=True)"
   ]
  },
  {
   "cell_type": "code",
   "execution_count": 26,
   "metadata": {},
   "outputs": [
    {
     "name": "stdout",
     "output_type": "stream",
     "text": [
      "Number of duplicated project IDs: 4091\n"
     ]
    }
   ],
   "source": [
    "# check for duplicate values \n",
    "dups = df[df.duplicated(subset='id',keep=False)==True].copy()\n",
    "print('Number of duplicated project IDs:', len(dups.groupby('id')))"
   ]
  },
  {
   "cell_type": "code",
   "execution_count": 27,
   "metadata": {},
   "outputs": [
    {
     "data": {
      "text/plain": [
       "79273"
      ]
     },
     "execution_count": 27,
     "metadata": {},
     "output_type": "execute_result"
    }
   ],
   "source": [
    "# drop all duplicates completelly (including first/last)\n",
    "# It's not worth the time to figure out which ones to keep since the dataset is big enough\n",
    "df = df[df.duplicated(subset='id',keep=False)==False].copy()\n",
    "len(df)"
   ]
  },
  {
   "cell_type": "code",
   "execution_count": 28,
   "metadata": {},
   "outputs": [
    {
     "data": {
      "text/plain": [
       "32.945000189219535"
      ]
     },
     "execution_count": 28,
     "metadata": {},
     "output_type": "execute_result"
    }
   ],
   "source": [
    "# calculate project length \n",
    "df['project_length'] = (df['deadline'] - df['launched_at']).dt.days\n",
    "df['project_length'].mean()"
   ]
  },
  {
   "cell_type": "code",
   "execution_count": 29,
   "metadata": {},
   "outputs": [
    {
     "data": {
      "text/plain": [
       "32.94534078437803"
      ]
     },
     "execution_count": 29,
     "metadata": {},
     "output_type": "execute_result"
    }
   ],
   "source": [
    "# add days till status change\n",
    "df['status_changed_days'] = (df['state_changed_at'] - df['launched_at']).dt.days\n",
    "df['status_changed_days'].mean()"
   ]
  },
  {
   "cell_type": "code",
   "execution_count": 30,
   "metadata": {
    "scrolled": false
   },
   "outputs": [
    {
     "name": "stdout",
     "output_type": "stream",
     "text": [
      "backers_count 2201\n",
      "blurb 78806\n",
      "converted_pledged_amount 20113\n",
      "created_at 2236\n",
      "creator 79141\n",
      "currency 1\n",
      "currency_symbol 1\n",
      "currency_trailing_code 1\n",
      "current_currency 1\n",
      "deadline 1857\n",
      "disable_communication 1\n",
      "fx_rate 1\n",
      "goal 2905\n",
      "id 79273\n",
      "is_starrable 1\n",
      "launched_at 1826\n",
      "name 79156\n",
      "photo 79273\n",
      "pledged 23656\n",
      "profile 79273\n",
      "slug 79273\n",
      "source_url 161\n",
      "spotlight 2\n",
      "staff_pick 2\n",
      "project_success 2\n",
      "state_changed_at 1857\n",
      "static_usd_rate 1\n",
      "urls 79273\n",
      "usd_pledged 23656\n",
      "usd_type 1\n",
      "location 8946\n",
      "launch_year 5\n",
      "state 51\n",
      "gen_category 15\n",
      "sub_category 151\n",
      "project_length 66\n",
      "status_changed_days 66\n"
     ]
    }
   ],
   "source": [
    "# check variance in each column of the dataset\n",
    "\n",
    "df_cols = list(df.columns)\n",
    "\n",
    "for c in df_cols:\n",
    "    print(c, len(set(df[c])))"
   ]
  },
  {
   "cell_type": "code",
   "execution_count": 31,
   "metadata": {},
   "outputs": [],
   "source": [
    "# drop columns that have no variance\n",
    "df.drop(labels=['currency','currency_symbol','currency_trailing_code','current_currency','disable_communication',\n",
    "               'fx_rate','is_starrable','static_usd_rate','usd_type'],axis=1,inplace=True)"
   ]
  },
  {
   "cell_type": "code",
   "execution_count": 32,
   "metadata": {},
   "outputs": [
    {
     "data": {
      "text/html": [
       "<div>\n",
       "<style scoped>\n",
       "    .dataframe tbody tr th:only-of-type {\n",
       "        vertical-align: middle;\n",
       "    }\n",
       "\n",
       "    .dataframe tbody tr th {\n",
       "        vertical-align: top;\n",
       "    }\n",
       "\n",
       "    .dataframe thead th {\n",
       "        text-align: right;\n",
       "    }\n",
       "</style>\n",
       "<table border=\"1\" class=\"dataframe\">\n",
       "  <thead>\n",
       "    <tr style=\"text-align: right;\">\n",
       "      <th></th>\n",
       "      <th>converted_pledged_amount</th>\n",
       "      <th>usd_pledged</th>\n",
       "    </tr>\n",
       "  </thead>\n",
       "  <tbody>\n",
       "    <tr>\n",
       "      <th>converted_pledged_amount</th>\n",
       "      <td>1.0</td>\n",
       "      <td>1.0</td>\n",
       "    </tr>\n",
       "    <tr>\n",
       "      <th>usd_pledged</th>\n",
       "      <td>1.0</td>\n",
       "      <td>1.0</td>\n",
       "    </tr>\n",
       "  </tbody>\n",
       "</table>\n",
       "</div>"
      ],
      "text/plain": [
       "                          converted_pledged_amount  usd_pledged\n",
       "converted_pledged_amount                       1.0          1.0\n",
       "usd_pledged                                    1.0          1.0"
      ]
     },
     "execution_count": 32,
     "metadata": {},
     "output_type": "execute_result"
    }
   ],
   "source": [
    "# check if converted_pleged_amonth and usd_pledged is the same var\n",
    "df[['converted_pledged_amount','usd_pledged']].corr()"
   ]
  },
  {
   "cell_type": "markdown",
   "metadata": {},
   "source": [
    "### Import monthly Consumer Confidence Index data \n",
    "- Source: Organisation for Economic Co-operation and Development"
   ]
  },
  {
   "cell_type": "code",
   "execution_count": 33,
   "metadata": {},
   "outputs": [
    {
     "data": {
      "text/html": [
       "<div>\n",
       "<style scoped>\n",
       "    .dataframe tbody tr th:only-of-type {\n",
       "        vertical-align: middle;\n",
       "    }\n",
       "\n",
       "    .dataframe tbody tr th {\n",
       "        vertical-align: top;\n",
       "    }\n",
       "\n",
       "    .dataframe thead th {\n",
       "        text-align: right;\n",
       "    }\n",
       "</style>\n",
       "<table border=\"1\" class=\"dataframe\">\n",
       "  <thead>\n",
       "    <tr style=\"text-align: right;\">\n",
       "      <th></th>\n",
       "      <th>LOCATION</th>\n",
       "      <th>INDICATOR</th>\n",
       "      <th>SUBJECT</th>\n",
       "      <th>MEASURE</th>\n",
       "      <th>FREQUENCY</th>\n",
       "      <th>TIME</th>\n",
       "      <th>Value</th>\n",
       "    </tr>\n",
       "  </thead>\n",
       "  <tbody>\n",
       "    <tr>\n",
       "      <th>0</th>\n",
       "      <td>USA</td>\n",
       "      <td>CCI</td>\n",
       "      <td>AMPLITUD</td>\n",
       "      <td>LTRENDIDX</td>\n",
       "      <td>M</td>\n",
       "      <td>2009-01</td>\n",
       "      <td>96.72424</td>\n",
       "    </tr>\n",
       "    <tr>\n",
       "      <th>1</th>\n",
       "      <td>USA</td>\n",
       "      <td>CCI</td>\n",
       "      <td>AMPLITUD</td>\n",
       "      <td>LTRENDIDX</td>\n",
       "      <td>M</td>\n",
       "      <td>2009-02</td>\n",
       "      <td>96.69838</td>\n",
       "    </tr>\n",
       "    <tr>\n",
       "      <th>2</th>\n",
       "      <td>USA</td>\n",
       "      <td>CCI</td>\n",
       "      <td>AMPLITUD</td>\n",
       "      <td>LTRENDIDX</td>\n",
       "      <td>M</td>\n",
       "      <td>2009-03</td>\n",
       "      <td>96.89890</td>\n",
       "    </tr>\n",
       "    <tr>\n",
       "      <th>3</th>\n",
       "      <td>USA</td>\n",
       "      <td>CCI</td>\n",
       "      <td>AMPLITUD</td>\n",
       "      <td>LTRENDIDX</td>\n",
       "      <td>M</td>\n",
       "      <td>2009-04</td>\n",
       "      <td>97.34391</td>\n",
       "    </tr>\n",
       "    <tr>\n",
       "      <th>4</th>\n",
       "      <td>USA</td>\n",
       "      <td>CCI</td>\n",
       "      <td>AMPLITUD</td>\n",
       "      <td>LTRENDIDX</td>\n",
       "      <td>M</td>\n",
       "      <td>2009-05</td>\n",
       "      <td>97.72681</td>\n",
       "    </tr>\n",
       "  </tbody>\n",
       "</table>\n",
       "</div>"
      ],
      "text/plain": [
       "  LOCATION INDICATOR   SUBJECT    MEASURE FREQUENCY     TIME     Value\n",
       "0      USA       CCI  AMPLITUD  LTRENDIDX         M  2009-01  96.72424\n",
       "1      USA       CCI  AMPLITUD  LTRENDIDX         M  2009-02  96.69838\n",
       "2      USA       CCI  AMPLITUD  LTRENDIDX         M  2009-03  96.89890\n",
       "3      USA       CCI  AMPLITUD  LTRENDIDX         M  2009-04  97.34391\n",
       "4      USA       CCI  AMPLITUD  LTRENDIDX         M  2009-05  97.72681"
      ]
     },
     "execution_count": 33,
     "metadata": {},
     "output_type": "execute_result"
    }
   ],
   "source": [
    "cci = pd.read_csv('../mcnulty_data/usa_cci.csv')\n",
    "cci.head()"
   ]
  },
  {
   "cell_type": "code",
   "execution_count": 34,
   "metadata": {},
   "outputs": [],
   "source": [
    "cci['TIME'] = pd.to_datetime(cci['TIME'],format=\"%Y/%m\")\n",
    "cci['year'] = cci['TIME'].apply(lambda x: x.year)\n",
    "cci['month'] = cci['TIME'].apply(lambda x: x.month)"
   ]
  },
  {
   "cell_type": "code",
   "execution_count": 35,
   "metadata": {},
   "outputs": [
    {
     "data": {
      "text/plain": [
       "count    110.000000\n",
       "mean      99.359164\n",
       "std        1.324061\n",
       "min       96.698380\n",
       "25%       98.388845\n",
       "50%       99.216125\n",
       "75%      100.606750\n",
       "max      101.401900\n",
       "Name: Value, dtype: float64"
      ]
     },
     "execution_count": 35,
     "metadata": {},
     "output_type": "execute_result"
    }
   ],
   "source": [
    "cci['Value'].describe()"
   ]
  },
  {
   "cell_type": "code",
   "execution_count": 36,
   "metadata": {},
   "outputs": [],
   "source": [
    "cci_clean = cci[['Value','year','month']].copy()\n",
    "cci_clean.rename(columns={\"Value\": \"cci\"}, inplace = True)"
   ]
  },
  {
   "cell_type": "code",
   "execution_count": 37,
   "metadata": {},
   "outputs": [],
   "source": [
    "# create columns to append cci on\n",
    "\n",
    "df['launch_month']=df['launched_at'].apply(lambda x: x.month)\n",
    "df['deadline_year']=df['deadline'].apply(lambda x: x.year)\n",
    "df['deadline_month']=df['deadline'].apply(lambda x: x.month)"
   ]
  },
  {
   "cell_type": "code",
   "execution_count": 38,
   "metadata": {},
   "outputs": [
    {
     "data": {
      "text/plain": [
       "Index(['backers_count', 'blurb', 'converted_pledged_amount', 'created_at',\n",
       "       'creator', 'deadline', 'goal', 'id', 'launched_at', 'name', 'photo',\n",
       "       'pledged', 'profile', 'slug', 'source_url', 'spotlight', 'staff_pick',\n",
       "       'project_success', 'state_changed_at', 'urls', 'usd_pledged',\n",
       "       'location', 'launch_year', 'state', 'gen_category', 'sub_category',\n",
       "       'project_length', 'status_changed_days', 'launch_month',\n",
       "       'deadline_year', 'deadline_month'],\n",
       "      dtype='object')"
      ]
     },
     "execution_count": 38,
     "metadata": {},
     "output_type": "execute_result"
    }
   ],
   "source": [
    "df.columns"
   ]
  },
  {
   "cell_type": "code",
   "execution_count": 39,
   "metadata": {},
   "outputs": [],
   "source": [
    "# join cci with df\n",
    "df = df.merge(cci_clean, left_on = ['launch_year','launch_month'], right_on = ['year','month'],how='left').copy()\n",
    "# rename cci\n",
    "df.rename(columns={'cci':'launch_cci'},inplace=True)"
   ]
  },
  {
   "cell_type": "code",
   "execution_count": 40,
   "metadata": {},
   "outputs": [],
   "source": [
    "df = df.merge(cci_clean, left_on = ['deadline_year','deadline_month'], right_on = ['year','month'],how='left').copy()\n",
    "# rename cci\n",
    "df.rename(columns={'cci':'deadline_cci'},inplace=True)"
   ]
  },
  {
   "cell_type": "code",
   "execution_count": 41,
   "metadata": {},
   "outputs": [],
   "source": [
    "df['mean_cci'] = (df['launch_cci'] + df['deadline_cci'])/2"
   ]
  },
  {
   "cell_type": "code",
   "execution_count": 42,
   "metadata": {},
   "outputs": [],
   "source": [
    "df.drop(labels=[\n",
    "    'deadline_year',\n",
    "    'deadline_month',\n",
    "    'launch_month',\n",
    "    'year_x', \n",
    "    'month_x',\n",
    "    'year_y', \n",
    "    'month_y',\n",
    "    'deadline_cci'],\n",
    "        axis=1,inplace=True)"
   ]
  },
  {
   "cell_type": "markdown",
   "metadata": {},
   "source": [
    "### Use VADER  to test blurbs\n",
    "(Valence Aware Dictionary and sEntiment Reasoner)"
   ]
  },
  {
   "cell_type": "code",
   "execution_count": 43,
   "metadata": {},
   "outputs": [],
   "source": [
    "# !pip install vaderSentiment"
   ]
  },
  {
   "cell_type": "code",
   "execution_count": 44,
   "metadata": {},
   "outputs": [],
   "source": [
    "from vaderSentiment.vaderSentiment import SentimentIntensityAnalyzer"
   ]
  },
  {
   "cell_type": "code",
   "execution_count": 45,
   "metadata": {},
   "outputs": [
    {
     "data": {
      "text/html": [
       "<div>\n",
       "<style scoped>\n",
       "    .dataframe tbody tr th:only-of-type {\n",
       "        vertical-align: middle;\n",
       "    }\n",
       "\n",
       "    .dataframe tbody tr th {\n",
       "        vertical-align: top;\n",
       "    }\n",
       "\n",
       "    .dataframe thead th {\n",
       "        text-align: right;\n",
       "    }\n",
       "</style>\n",
       "<table border=\"1\" class=\"dataframe\">\n",
       "  <thead>\n",
       "    <tr style=\"text-align: right;\">\n",
       "      <th></th>\n",
       "      <th>blurb_pos</th>\n",
       "      <th>blurb_compound</th>\n",
       "    </tr>\n",
       "  </thead>\n",
       "  <tbody>\n",
       "    <tr>\n",
       "      <th>count</th>\n",
       "      <td>79273.000000</td>\n",
       "      <td>79273.000000</td>\n",
       "    </tr>\n",
       "    <tr>\n",
       "      <th>mean</th>\n",
       "      <td>0.167627</td>\n",
       "      <td>0.317832</td>\n",
       "    </tr>\n",
       "    <tr>\n",
       "      <th>std</th>\n",
       "      <td>0.143244</td>\n",
       "      <td>0.424292</td>\n",
       "    </tr>\n",
       "    <tr>\n",
       "      <th>min</th>\n",
       "      <td>0.000000</td>\n",
       "      <td>-0.973800</td>\n",
       "    </tr>\n",
       "    <tr>\n",
       "      <th>25%</th>\n",
       "      <td>0.000000</td>\n",
       "      <td>0.000000</td>\n",
       "    </tr>\n",
       "    <tr>\n",
       "      <th>50%</th>\n",
       "      <td>0.152000</td>\n",
       "      <td>0.401900</td>\n",
       "    </tr>\n",
       "    <tr>\n",
       "      <th>75%</th>\n",
       "      <td>0.264000</td>\n",
       "      <td>0.670500</td>\n",
       "    </tr>\n",
       "    <tr>\n",
       "      <th>max</th>\n",
       "      <td>1.000000</td>\n",
       "      <td>0.983700</td>\n",
       "    </tr>\n",
       "  </tbody>\n",
       "</table>\n",
       "</div>"
      ],
      "text/plain": [
       "          blurb_pos  blurb_compound\n",
       "count  79273.000000    79273.000000\n",
       "mean       0.167627        0.317832\n",
       "std        0.143244        0.424292\n",
       "min        0.000000       -0.973800\n",
       "25%        0.000000        0.000000\n",
       "50%        0.152000        0.401900\n",
       "75%        0.264000        0.670500\n",
       "max        1.000000        0.983700"
      ]
     },
     "execution_count": 45,
     "metadata": {},
     "output_type": "execute_result"
    }
   ],
   "source": [
    "# create [positive] and [compound] blurb sentiment scores\n",
    "analyzer = SentimentIntensityAnalyzer()\n",
    "\n",
    "df['blurb_pos'] = [analyzer.polarity_scores(blurb)['pos'] for blurb in df['blurb']]\n",
    "df['blurb_compound'] = [analyzer.polarity_scores(blurb)['compound'] for blurb in df['blurb']]\n",
    "df[['blurb_pos','blurb_compound']].describe()"
   ]
  },
  {
   "cell_type": "markdown",
   "metadata": {},
   "source": [
    "### Get Number of Reward Levels data"
   ]
  },
  {
   "cell_type": "code",
   "execution_count": 46,
   "metadata": {},
   "outputs": [
    {
     "data": {
      "text/plain": [
       "'{\"web\":{\"project\":\"https://www.kickstarter.com/projects/2097219279/pottery-studio-build-and-kiln?ref=category_newest\",\"rewards\":\"https://www.kickstarter.com/projects/2097219279/pottery-studio-build-and-kiln/rewards\"}}'"
      ]
     },
     "execution_count": 46,
     "metadata": {},
     "output_type": "execute_result"
    }
   ],
   "source": [
    "# see [urls] field example\n",
    "df.loc[0]['urls']"
   ]
  },
  {
   "cell_type": "code",
   "execution_count": 47,
   "metadata": {},
   "outputs": [],
   "source": [
    "# create a function to extract the rewards url from [urls]\n",
    "def rewards_url(urls_string):\n",
    "    r_url = re.match(r'.+(\"rewards\":)(\"https://www.kickstarter.com.*/rewards\").+',urls_string).group(2).replace('\"','') \n",
    "    return(r_url)"
   ]
  },
  {
   "cell_type": "code",
   "execution_count": 48,
   "metadata": {},
   "outputs": [],
   "source": [
    "df['rewards_url'] = [rewards_url(url_string) for url_string in df['urls']]"
   ]
  },
  {
   "cell_type": "code",
   "execution_count": 49,
   "metadata": {},
   "outputs": [],
   "source": [
    "# create a file with urls for reward scraping\n",
    "rewards_df = df[['id','rewards_url']].copy()"
   ]
  },
  {
   "cell_type": "code",
   "execution_count": 50,
   "metadata": {},
   "outputs": [
    {
     "data": {
      "text/html": [
       "<div>\n",
       "<style scoped>\n",
       "    .dataframe tbody tr th:only-of-type {\n",
       "        vertical-align: middle;\n",
       "    }\n",
       "\n",
       "    .dataframe tbody tr th {\n",
       "        vertical-align: top;\n",
       "    }\n",
       "\n",
       "    .dataframe thead th {\n",
       "        text-align: right;\n",
       "    }\n",
       "</style>\n",
       "<table border=\"1\" class=\"dataframe\">\n",
       "  <thead>\n",
       "    <tr style=\"text-align: right;\">\n",
       "      <th></th>\n",
       "      <th>id</th>\n",
       "      <th>rewards_url</th>\n",
       "    </tr>\n",
       "  </thead>\n",
       "  <tbody>\n",
       "    <tr>\n",
       "      <th>0</th>\n",
       "      <td>397813329</td>\n",
       "      <td>https://www.kickstarter.com/projects/209721927...</td>\n",
       "    </tr>\n",
       "    <tr>\n",
       "      <th>1</th>\n",
       "      <td>1079930054</td>\n",
       "      <td>https://www.kickstarter.com/projects/141670531...</td>\n",
       "    </tr>\n",
       "    <tr>\n",
       "      <th>2</th>\n",
       "      <td>1146086992</td>\n",
       "      <td>https://www.kickstarter.com/projects/129761750...</td>\n",
       "    </tr>\n",
       "    <tr>\n",
       "      <th>3</th>\n",
       "      <td>1847095535</td>\n",
       "      <td>https://www.kickstarter.com/projects/122214150...</td>\n",
       "    </tr>\n",
       "    <tr>\n",
       "      <th>4</th>\n",
       "      <td>756870088</td>\n",
       "      <td>https://www.kickstarter.com/projects/127715372...</td>\n",
       "    </tr>\n",
       "  </tbody>\n",
       "</table>\n",
       "</div>"
      ],
      "text/plain": [
       "           id                                        rewards_url\n",
       "0   397813329  https://www.kickstarter.com/projects/209721927...\n",
       "1  1079930054  https://www.kickstarter.com/projects/141670531...\n",
       "2  1146086992  https://www.kickstarter.com/projects/129761750...\n",
       "3  1847095535  https://www.kickstarter.com/projects/122214150...\n",
       "4   756870088  https://www.kickstarter.com/projects/127715372..."
      ]
     },
     "execution_count": 50,
     "metadata": {},
     "output_type": "execute_result"
    }
   ],
   "source": [
    "rewards_df.head()"
   ]
  },
  {
   "cell_type": "code",
   "execution_count": 51,
   "metadata": {},
   "outputs": [],
   "source": [
    "# create a file to use for scraping\n",
    "rewards_df.to_csv('../mcnulty_data/rewards_df.csv')"
   ]
  },
  {
   "cell_type": "markdown",
   "metadata": {},
   "source": [
    "#### Go scrape! (see notebook: kickstarter_scraper_beatifulsoup.ipynb)"
   ]
  },
  {
   "cell_type": "code",
   "execution_count": 52,
   "metadata": {},
   "outputs": [],
   "source": [
    "# import scraped kickstarter data\n",
    "\n",
    "dfs = []\n",
    "for file_num in np.arange(0,33):\n",
    "    file_name = f'../mcnulty_data/scraped/kickstarter_project_reward_count_{file_num}.csv'\n",
    "    dfs.append(\n",
    "        pd.read_csv(file_name)\n",
    "    )"
   ]
  },
  {
   "cell_type": "code",
   "execution_count": 53,
   "metadata": {},
   "outputs": [
    {
     "data": {
      "text/html": [
       "<div>\n",
       "<style scoped>\n",
       "    .dataframe tbody tr th:only-of-type {\n",
       "        vertical-align: middle;\n",
       "    }\n",
       "\n",
       "    .dataframe tbody tr th {\n",
       "        vertical-align: top;\n",
       "    }\n",
       "\n",
       "    .dataframe thead th {\n",
       "        text-align: right;\n",
       "    }\n",
       "</style>\n",
       "<table border=\"1\" class=\"dataframe\">\n",
       "  <thead>\n",
       "    <tr style=\"text-align: right;\">\n",
       "      <th></th>\n",
       "      <th>id</th>\n",
       "      <th>rewards_count</th>\n",
       "    </tr>\n",
       "  </thead>\n",
       "  <tbody>\n",
       "    <tr>\n",
       "      <th>0</th>\n",
       "      <td>1414438580</td>\n",
       "      <td>14</td>\n",
       "    </tr>\n",
       "    <tr>\n",
       "      <th>1</th>\n",
       "      <td>1597422030</td>\n",
       "      <td>1</td>\n",
       "    </tr>\n",
       "    <tr>\n",
       "      <th>2</th>\n",
       "      <td>427587316</td>\n",
       "      <td>10</td>\n",
       "    </tr>\n",
       "    <tr>\n",
       "      <th>3</th>\n",
       "      <td>269813328</td>\n",
       "      <td>9</td>\n",
       "    </tr>\n",
       "    <tr>\n",
       "      <th>4</th>\n",
       "      <td>1047446912</td>\n",
       "      <td>4</td>\n",
       "    </tr>\n",
       "  </tbody>\n",
       "</table>\n",
       "</div>"
      ],
      "text/plain": [
       "           id  rewards_count\n",
       "0  1414438580             14\n",
       "1  1597422030              1\n",
       "2   427587316             10\n",
       "3   269813328              9\n",
       "4  1047446912              4"
      ]
     },
     "execution_count": 53,
     "metadata": {},
     "output_type": "execute_result"
    }
   ],
   "source": [
    "# combine all csv's into one df\n",
    "ks_rewards = pd.concat(dfs).reset_index()\n",
    "# check for duplicates\n",
    "ks_rewards = ks_rewards[ks_rewards.duplicated(subset='id',keep='first')==False].copy()\n",
    "ks_rewards = ks_rewards[['id','rewards_count']].copy()\n",
    "ks_rewards.head()"
   ]
  },
  {
   "cell_type": "code",
   "execution_count": 54,
   "metadata": {},
   "outputs": [
    {
     "name": "stdout",
     "output_type": "stream",
     "text": [
      "<class 'pandas.core.frame.DataFrame'>\n",
      "Int64Index: 79273 entries, 0 to 79272\n",
      "Data columns (total 34 columns):\n",
      "backers_count               79273 non-null int64\n",
      "blurb                       79273 non-null object\n",
      "converted_pledged_amount    79273 non-null int64\n",
      "created_at                  79273 non-null datetime64[ns]\n",
      "creator                     79273 non-null object\n",
      "deadline                    79273 non-null datetime64[ns]\n",
      "goal                        79273 non-null float64\n",
      "id                          79273 non-null int64\n",
      "launched_at                 79273 non-null datetime64[ns]\n",
      "name                        79273 non-null object\n",
      "photo                       79273 non-null object\n",
      "pledged                     79273 non-null float64\n",
      "profile                     79273 non-null object\n",
      "slug                        79273 non-null object\n",
      "source_url                  79273 non-null object\n",
      "spotlight                   79273 non-null bool\n",
      "staff_pick                  79273 non-null bool\n",
      "project_success             79273 non-null int64\n",
      "state_changed_at            79273 non-null datetime64[ns]\n",
      "urls                        79273 non-null object\n",
      "usd_pledged                 79273 non-null float64\n",
      "location                    79273 non-null object\n",
      "launch_year                 79273 non-null int64\n",
      "state                       79273 non-null object\n",
      "gen_category                79273 non-null object\n",
      "sub_category                79273 non-null object\n",
      "project_length              79273 non-null int64\n",
      "status_changed_days         79273 non-null int64\n",
      "launch_cci                  79273 non-null float64\n",
      "mean_cci                    79273 non-null float64\n",
      "blurb_pos                   79273 non-null float64\n",
      "blurb_compound              79273 non-null float64\n",
      "rewards_url                 79273 non-null object\n",
      "rewards_count               79271 non-null float64\n",
      "dtypes: bool(2), datetime64[ns](4), float64(8), int64(7), object(13)\n",
      "memory usage: 20.1+ MB\n"
     ]
    }
   ],
   "source": [
    "df = df.merge(ks_rewards, on='id', how='left')\n",
    "df.info()"
   ]
  },
  {
   "cell_type": "code",
   "execution_count": 55,
   "metadata": {},
   "outputs": [
    {
     "data": {
      "text/plain": [
       "79271"
      ]
     },
     "execution_count": 55,
     "metadata": {},
     "output_type": "execute_result"
    }
   ],
   "source": [
    "# there are two rows missing reward_count values, drop those\n",
    "df.dropna(axis=0, how='any',inplace=True)\n",
    "len(df)"
   ]
  },
  {
   "cell_type": "markdown",
   "metadata": {},
   "source": [
    "### Get count of projects per project creator"
   ]
  },
  {
   "cell_type": "code",
   "execution_count": 56,
   "metadata": {},
   "outputs": [
    {
     "data": {
      "text/plain": [
       "'{\"urls\":{\"web\":{\"user\":\"https://www.kickstarter.com/profile/2097219279\"},\"api\":{\"user\":\"https://api.kickstarter.com/v1/users/2097219279?signature=1518793840.bb8d56e6a80230feacd3a4fa7cdb91697dfc212f\"}},\"is_registered\":true,\"chosen_currency\":null,\"name\":\"Ryan Moore\",\"id\":2097219279,\"avatar\":{\"small\":\"https://ksr-ugc.imgix.net/assets/010/742/833/f72b2d477ba86a698dac006ac7cf68d8_original.PNG?w=160&h=160&fit=crop&v=1506889366&auto=format&q=92&s=179ee0aa5c0f334e53047d83c3f8f87e\",\"thumb\":\"https://ksr-ugc.imgix.net/assets/010/742/833/f72b2d477ba86a698dac006ac7cf68d8_original.PNG?w=40&h=40&fit=crop&v=1506889366&auto=format&q=92&s=7756ad34f1816655d7cf89c28b646242\",\"medium\":\"https://ksr-ugc.imgix.net/assets/010/742/833/f72b2d477ba86a698dac006ac7cf68d8_original.PNG?w=160&h=160&fit=crop&v=1506889366&auto=format&q=92&s=179ee0aa5c0f334e53047d83c3f8f87e\"}}'"
      ]
     },
     "execution_count": 56,
     "metadata": {},
     "output_type": "execute_result"
    }
   ],
   "source": [
    "# see what creator values look like \n",
    "df.loc[0]['creator']"
   ]
  },
  {
   "cell_type": "code",
   "execution_count": 57,
   "metadata": {},
   "outputs": [],
   "source": [
    "# extract creator id\n",
    "df['creator_id'] = [re.match(r'.+(\"id\":)(\\d+,).+',creator).group(2).replace(',','') \n",
    "                    for creator in df['creator']]"
   ]
  },
  {
   "cell_type": "code",
   "execution_count": 58,
   "metadata": {},
   "outputs": [
    {
     "name": "stdout",
     "output_type": "stream",
     "text": [
      "Number of duplicated project IDs: 5164\n"
     ]
    }
   ],
   "source": [
    "creator_dups = df[df.duplicated(subset='creator_id',keep=False)==True].copy()\n",
    "print('Number of duplicated project IDs:', len(creator_dups.groupby('creator_id')))"
   ]
  },
  {
   "cell_type": "code",
   "execution_count": 59,
   "metadata": {},
   "outputs": [],
   "source": [
    "# assign a count for each project created by the same creator_id\n",
    "df.sort_values(by=['creator_id','launched_at'],inplace=True)\n",
    "\n",
    "df['proj_num_by_creator'] = df.groupby(['creator_id']).cumcount()+1"
   ]
  },
  {
   "cell_type": "code",
   "execution_count": 60,
   "metadata": {},
   "outputs": [
    {
     "data": {
      "text/plain": [
       "count    79271.000000\n",
       "mean         1.213622\n",
       "std          1.410348\n",
       "min          1.000000\n",
       "25%          1.000000\n",
       "50%          1.000000\n",
       "75%          1.000000\n",
       "max         66.000000\n",
       "Name: proj_num_by_creator, dtype: float64"
      ]
     },
     "execution_count": 60,
     "metadata": {},
     "output_type": "execute_result"
    }
   ],
   "source": [
    "df['proj_num_by_creator'].describe()"
   ]
  },
  {
   "cell_type": "code",
   "execution_count": 61,
   "metadata": {},
   "outputs": [],
   "source": [
    "# to avoide creating categorical var for the count of projects, \n",
    "# create a binary var: first project non-first\n",
    "df['first_time_proj'] = np.where(df['proj_num_by_creator']==1, 1, 0)"
   ]
  },
  {
   "cell_type": "markdown",
   "metadata": {},
   "source": [
    "## EDA"
   ]
  },
  {
   "cell_type": "code",
   "execution_count": 62,
   "metadata": {},
   "outputs": [
    {
     "data": {
      "image/png": "[encoded data removed]",
      "text/plain": [
       "<Figure size 576x432 with 1 Axes>"
      ]
     },
     "metadata": {},
     "output_type": "display_data"
    }
   ],
   "source": [
    "# check the ratio of successful and failed projects\n",
    "plt.figure(figsize=(8,6))\n",
    "\n",
    "plt.bar(df.groupby('project_success')['id'].count().index, df.groupby('project_success')['id'].count().values)\n",
    "plt.xlabel('Project Success')\n",
    "plt.xticks(df.groupby('project_success')['id'].count().index)\n",
    "plt.ylabel('Number of Projects ')\n",
    "plt.title('Successful vs. Failed Projects (2013-2017)', size = 18);"
   ]
  },
  {
   "cell_type": "code",
   "execution_count": 63,
   "metadata": {},
   "outputs": [
    {
     "data": {
      "image/png": "[encoded data removed]",
      "text/plain": [
       "<Figure size 576x432 with 1 Axes>"
      ]
     },
     "metadata": {},
     "output_type": "display_data"
    }
   ],
   "source": [
    "goal_by_success = df.groupby(by='project_success')['goal'].mean()\n",
    "\n",
    "plt.figure(figsize=(8,6))\n",
    "\n",
    "plt.bar(goal_by_success.index, goal_by_success.values)\n",
    "plt.xlabel('Project Success')\n",
    "plt.xticks(goal_by_success.index)\n",
    "plt.title('Project Goal Amount by Project Success', size = 18);"
   ]
  },
  {
   "cell_type": "code",
   "execution_count": 64,
   "metadata": {},
   "outputs": [
    {
     "data": {
      "image/png": "[encoded data removed]",
      "text/plain": [
       "<Figure size 576x432 with 1 Axes>"
      ]
     },
     "metadata": {},
     "output_type": "display_data"
    }
   ],
   "source": [
    "# ratio of first time to non-first time projects\n",
    "\n",
    "first_time_vs_repeat = df.groupby(by='first_time_proj')['id'].count()\n",
    "\n",
    "plt.figure(figsize=(8,6))\n",
    "\n",
    "plt.bar(first_time_vs_repeat.index, first_time_vs_repeat.values)\n",
    "plt.xlabel('First Project by Creator')\n",
    "plt.xticks(first_time_vs_repeat.index)\n",
    "plt.title('Number of First Time vs. Repeat Projects', size = 18);"
   ]
  },
  {
   "cell_type": "code",
   "execution_count": 65,
   "metadata": {
    "scrolled": false
   },
   "outputs": [
    {
     "data": {
      "image/png": "[encoded data removed]",
      "text/plain": [
       "<Figure size 1296x576 with 2 Axes>"
      ]
     },
     "metadata": {},
     "output_type": "display_data"
    }
   ],
   "source": [
    "# check project length distribution\n",
    "plt.figure(figsize=(18, 8))\n",
    "plt.subplot(1, 2, 1)\n",
    "plt.boxplot(df['project_length'])\n",
    "plt.title('Kickstarter Project Length')\n",
    "plt.xlabel('Number of Days')\n",
    "\n",
    "plt.subplot(1, 2, 2)\n",
    "plt.boxplot(df['status_changed_days'])\n",
    "plt.title('Days from Launch to Status Change')\n",
    "plt.xlabel('Number of Days');"
   ]
  },
  {
   "cell_type": "markdown",
   "metadata": {},
   "source": [
    "### Observation:\n",
    "- It looks like project length and days till status change are the same/very similar => Will use only one in the model"
   ]
  },
  {
   "cell_type": "markdown",
   "metadata": {},
   "source": [
    "#### Project Categories"
   ]
  },
  {
   "cell_type": "code",
   "execution_count": 66,
   "metadata": {},
   "outputs": [
    {
     "name": "stdout",
     "output_type": "stream",
     "text": [
      "Number of gen categoreis:  15\n",
      "Number of sub categoreis:  151\n"
     ]
    }
   ],
   "source": [
    "print('Number of gen categoreis: ', len(np.unique(df['gen_category'])))\n",
    "print('Number of sub categoreis: ', len(np.unique(df['sub_category'])))"
   ]
  },
  {
   "cell_type": "code",
   "execution_count": 67,
   "metadata": {},
   "outputs": [],
   "source": [
    "# get list of gen_categories\n",
    "gen_categories = list(set(df['gen_category']))"
   ]
  },
  {
   "cell_type": "code",
   "execution_count": 68,
   "metadata": {},
   "outputs": [
    {
     "data": {
      "image/png": "[encoded data removed]",
      "text/plain": [
       "<Figure size 1296x576 with 1 Axes>"
      ]
     },
     "metadata": {},
     "output_type": "display_data"
    }
   ],
   "source": [
    "# plot bar chart with gen_categories \n",
    "category_count_sorted = df.groupby('gen_category')['id'].count().sort_values(ascending=False).reset_index().copy()\n",
    "\n",
    "plt.figure(figsize=(18, 8))\n",
    "\n",
    "sns.set_style(\"dark\")\n",
    "sns.barplot(category_count_sorted['gen_category'], category_count_sorted['id'], palette=\"Blues_d\")\n",
    "plt.ylabel('Number of Projects ')\n",
    "plt.title('Number of Projects in Each Category');"
   ]
  },
  {
   "cell_type": "code",
   "execution_count": 69,
   "metadata": {},
   "outputs": [],
   "source": [
    "# create categorical variables based on ['gen_category'] column. \n",
    "# wait on creating sub_category features for now since there are very many\n",
    "df = pd.get_dummies(df, columns=['gen_category'], prefix='category')\n",
    "df.rename(columns={'category_film & video':'category_film_n_video'},inplace=True)"
   ]
  },
  {
   "cell_type": "code",
   "execution_count": 70,
   "metadata": {},
   "outputs": [],
   "source": [
    "# update gen_category list\n",
    "gen_categories[gen_categories.index('film & video')] = 'film_n_video'\n",
    "gen_categories = ['category_'+ cat for cat in gen_categories]"
   ]
  },
  {
   "cell_type": "code",
   "execution_count": 71,
   "metadata": {},
   "outputs": [
    {
     "data": {
      "text/plain": [
       "Text(0.5,1,'Consumer Confidence Index 2013-2017')"
      ]
     },
     "execution_count": 71,
     "metadata": {},
     "output_type": "execute_result"
    },
    {
     "data": {
      "image/png": "[encoded data removed]",
      "text/plain": [
       "<Figure size 864x576 with 1 Axes>"
      ]
     },
     "metadata": {},
     "output_type": "display_data"
    }
   ],
   "source": [
    "# CCI index timeseries\n",
    "cci_13_17 = cci[(cci['TIME']>='2013-01-01') & (cci['TIME']<'2018-01-01')]\n",
    "\n",
    "plt.figure(figsize=(12,8))\n",
    "plt.plot(cci_13_17['TIME'], cci_13_17['Value'])\n",
    "plt.title('Consumer Confidence Index 2013-2017', size=18)"
   ]
  },
  {
   "cell_type": "code",
   "execution_count": 72,
   "metadata": {},
   "outputs": [
    {
     "data": {
      "image/png": "[encoded data removed]",
      "text/plain": [
       "<Figure size 864x576 with 1 Axes>"
      ]
     },
     "metadata": {},
     "output_type": "display_data"
    }
   ],
   "source": [
    "plt.figure(figsize=(12, 8))\n",
    "\n",
    "plt.hist(df['blurb_compound'])\n",
    "plt.title('Blurb Sentiment Compund Distribution', size=18)\n",
    "plt.xlabel('Scores');"
   ]
  },
  {
   "cell_type": "code",
   "execution_count": 73,
   "metadata": {},
   "outputs": [
    {
     "data": {
      "text/plain": [
       "Index(['backers_count', 'blurb', 'converted_pledged_amount', 'created_at',\n",
       "       'creator', 'deadline', 'goal', 'id', 'launched_at', 'name', 'photo',\n",
       "       'pledged', 'profile', 'slug', 'source_url', 'spotlight', 'staff_pick',\n",
       "       'project_success', 'state_changed_at', 'urls', 'usd_pledged',\n",
       "       'location', 'launch_year', 'state', 'sub_category', 'project_length',\n",
       "       'status_changed_days', 'launch_cci', 'mean_cci', 'blurb_pos',\n",
       "       'blurb_compound', 'rewards_url', 'rewards_count', 'creator_id',\n",
       "       'proj_num_by_creator', 'first_time_proj', 'category_art',\n",
       "       'category_comics', 'category_crafts', 'category_dance',\n",
       "       'category_design', 'category_fashion', 'category_film_n_video',\n",
       "       'category_food', 'category_games', 'category_journalism',\n",
       "       'category_music', 'category_photography', 'category_publishing',\n",
       "       'category_technology', 'category_theater'],\n",
       "      dtype='object')"
      ]
     },
     "execution_count": 73,
     "metadata": {},
     "output_type": "execute_result"
    }
   ],
   "source": [
    "df.columns"
   ]
  },
  {
   "cell_type": "code",
   "execution_count": 74,
   "metadata": {},
   "outputs": [
    {
     "data": {
      "image/png": "[encoded data removed]",
      "text/plain": [
       "<Figure size 576x432 with 1 Axes>"
      ]
     },
     "metadata": {},
     "output_type": "display_data"
    }
   ],
   "source": [
    "sentiment_by_success = df.groupby(by='project_success')['blurb_compound'].mean()\n",
    "\n",
    "plt.figure(figsize=(8,6))\n",
    "\n",
    "plt.bar(sentiment_by_success.index, sentiment_by_success.values)\n",
    "plt.xlabel('Project Success')\n",
    "plt.xticks(sentiment_by_success.index)\n",
    "plt.title('Blurb Sentiment Copmound Score count by Project Success', size = 18);"
   ]
  },
  {
   "cell_type": "code",
   "execution_count": 75,
   "metadata": {},
   "outputs": [
    {
     "data": {
      "image/png": "[encoded data removed]",
      "text/plain": [
       "<Figure size 576x432 with 1 Axes>"
      ]
     },
     "metadata": {},
     "output_type": "display_data"
    }
   ],
   "source": [
    "pos_sentiment_by_success = df.groupby(by='project_success')['blurb_pos'].mean()\n",
    "\n",
    "plt.figure(figsize=(8,6))\n",
    "\n",
    "plt.bar(pos_sentiment_by_success.index, pos_sentiment_by_success.values)\n",
    "plt.xlabel('Project Success')\n",
    "plt.xticks(pos_sentiment_by_success.index)\n",
    "plt.title('Blurb Sentiment Positivity Score count by Project Success', size = 18);"
   ]
  },
  {
   "cell_type": "code",
   "execution_count": 76,
   "metadata": {},
   "outputs": [
    {
     "data": {
      "text/plain": [
       "<matplotlib.collections.PathCollection at 0x7f0297493e48>"
      ]
     },
     "execution_count": 76,
     "metadata": {},
     "output_type": "execute_result"
    },
    {
     "data": {
      "image/png": "[encoded data removed]",
      "text/plain": [
       "<Figure size 432x288 with 1 Axes>"
      ]
     },
     "metadata": {},
     "output_type": "display_data"
    }
   ],
   "source": [
    "plt.scatter(df['blurb_compound'], df['project_success'])"
   ]
  },
  {
   "cell_type": "code",
   "execution_count": 77,
   "metadata": {},
   "outputs": [
    {
     "data": {
      "text/plain": [
       "project_success\n",
       "0    100.433812\n",
       "1    100.189986\n",
       "Name: mean_cci, dtype: float64"
      ]
     },
     "execution_count": 77,
     "metadata": {},
     "output_type": "execute_result"
    }
   ],
   "source": [
    "df.groupby('project_success')['mean_cci'].mean()"
   ]
  },
  {
   "cell_type": "code",
   "execution_count": 78,
   "metadata": {},
   "outputs": [
    {
     "data": {
      "text/plain": [
       "project_success\n",
       "0    100.407051\n",
       "1    100.166753\n",
       "Name: launch_cci, dtype: float64"
      ]
     },
     "execution_count": 78,
     "metadata": {},
     "output_type": "execute_result"
    }
   ],
   "source": [
    "df.groupby('project_success')['launch_cci'].mean()"
   ]
  },
  {
   "cell_type": "code",
   "execution_count": 79,
   "metadata": {},
   "outputs": [
    {
     "data": {
      "image/png": "[encoded data removed]",
      "text/plain": [
       "<Figure size 864x576 with 1 Axes>"
      ]
     },
     "metadata": {},
     "output_type": "display_data"
    }
   ],
   "source": [
    "plt.figure(figsize=(12, 8))\n",
    "\n",
    "plt.hist(df['rewards_count'],bins=50)\n",
    "plt.title('Project Reward-Level Count', size=18)\n",
    "plt.xlabel('Number of Reward Levels');"
   ]
  },
  {
   "cell_type": "code",
   "execution_count": 80,
   "metadata": {},
   "outputs": [
    {
     "data": {
      "image/png": "[encoded data removed]",
      "text/plain": [
       "<Figure size 576x432 with 1 Axes>"
      ]
     },
     "metadata": {},
     "output_type": "display_data"
    }
   ],
   "source": [
    "rewards_by_success = df.groupby(by='project_success')['rewards_count'].mean()\n",
    "\n",
    "plt.figure(figsize=(8,6))\n",
    "\n",
    "plt.bar(rewards_by_success.index, rewards_by_success.values)\n",
    "plt.xlabel('Project Success')\n",
    "plt.xticks(rewards_by_success.index)\n",
    "plt.title('Reward-level count by Project Success', size = 18);"
   ]
  },
  {
   "cell_type": "code",
   "execution_count": 81,
   "metadata": {},
   "outputs": [
    {
     "data": {
      "text/plain": [
       "<matplotlib.collections.PathCollection at 0x7f0297477a90>"
      ]
     },
     "execution_count": 81,
     "metadata": {},
     "output_type": "execute_result"
    },
    {
     "data": {
      "image/png": "[encoded data removed]",
      "text/plain": [
       "<Figure size 432x288 with 1 Axes>"
      ]
     },
     "metadata": {},
     "output_type": "display_data"
    }
   ],
   "source": [
    "plt.scatter(df['rewards_count'], df['project_success'])"
   ]
  },
  {
   "cell_type": "markdown",
   "metadata": {},
   "source": [
    "## Modeling"
   ]
  },
  {
   "cell_type": "code",
   "execution_count": 82,
   "metadata": {},
   "outputs": [],
   "source": [
    "from sklearn import naive_bayes\n",
    "from sklearn import pipeline, preprocessing, neighbors, model_selection\n",
    "from sklearn.model_selection import train_test_split\n",
    "from sklearn.model_selection import GridSearchCV\n",
    "from sklearn.ensemble import VotingClassifier\n",
    "\n",
    "from sklearn.linear_model import LogisticRegression\n",
    "from sklearn.ensemble import RandomForestClassifier\n",
    "\n",
    "from sklearn import metrics\n",
    "from sklearn.metrics import confusion_matrix\n",
    "from sklearn.metrics import roc_curve, auc\n",
    "from sklearn.metrics import precision_recall_curve"
   ]
  },
  {
   "cell_type": "code",
   "execution_count": 83,
   "metadata": {},
   "outputs": [],
   "source": [
    "# create X and y variables\n",
    "X = df.select_dtypes(exclude=object).drop('project_success',axis=1).copy()\n",
    "y = df['project_success']"
   ]
  },
  {
   "cell_type": "code",
   "execution_count": 84,
   "metadata": {},
   "outputs": [],
   "source": [
    "# experimentation setup\n",
    "\n",
    "#train test split\n",
    "X_train, X_test, y_train, y_test = train_test_split(X, y, random_state=123)\n",
    "\n",
    "\n",
    "# transformation\n",
    "scaler = preprocessing.StandardScaler()\n",
    "\n",
    "# set cross-validation method\n",
    "kfold = model_selection.StratifiedKFold(n_splits=10, shuffle=True, random_state=101)"
   ]
  },
  {
   "cell_type": "code",
   "execution_count": 85,
   "metadata": {},
   "outputs": [],
   "source": [
    "# create a function to generate scaled X features\n",
    "def get_X_std(df, feature_list):\n",
    "    \n",
    "    X = df[feature_list]  \n",
    "    X_std = scaler.fit_transform(X)\n",
    "    return(X_std)"
   ]
  },
  {
   "cell_type": "markdown",
   "metadata": {},
   "source": [
    "### Establish a baseline for the models"
   ]
  },
  {
   "cell_type": "code",
   "execution_count": 86,
   "metadata": {},
   "outputs": [
    {
     "name": "stdout",
     "output_type": "stream",
     "text": [
      "Model baseline: [0.537]\n"
     ]
    }
   ],
   "source": [
    "# accuracy if we jsut did majority vote\n",
    "baseline = round(y_test.value_counts().head(1) / len(y_test), 3)\n",
    "print('Model baseline:', baseline.values)"
   ]
  },
  {
   "cell_type": "code",
   "execution_count": 87,
   "metadata": {},
   "outputs": [],
   "source": [
    "# create a dataframe to keep track of all scores\n",
    "model_results = pd.DataFrame(columns=['model','test_accuracy'])\n",
    "\n",
    "def fill_in_res(model_name, test_accuracy):\n",
    "    model_results.loc[len(model_results)]=[model_name,round(test_accuracy,3)] \n",
    "    return(model_results)"
   ]
  },
  {
   "cell_type": "code",
   "execution_count": 88,
   "metadata": {},
   "outputs": [
    {
     "data": {
      "text/html": [
       "<div>\n",
       "<style scoped>\n",
       "    .dataframe tbody tr th:only-of-type {\n",
       "        vertical-align: middle;\n",
       "    }\n",
       "\n",
       "    .dataframe tbody tr th {\n",
       "        vertical-align: top;\n",
       "    }\n",
       "\n",
       "    .dataframe thead th {\n",
       "        text-align: right;\n",
       "    }\n",
       "</style>\n",
       "<table border=\"1\" class=\"dataframe\">\n",
       "  <thead>\n",
       "    <tr style=\"text-align: right;\">\n",
       "      <th></th>\n",
       "      <th>model</th>\n",
       "      <th>test_accuracy</th>\n",
       "    </tr>\n",
       "  </thead>\n",
       "  <tbody>\n",
       "    <tr>\n",
       "      <th>0</th>\n",
       "      <td>Baseline</td>\n",
       "      <td>0.537</td>\n",
       "    </tr>\n",
       "  </tbody>\n",
       "</table>\n",
       "</div>"
      ],
      "text/plain": [
       "      model  test_accuracy\n",
       "0  Baseline          0.537"
      ]
     },
     "execution_count": 88,
     "metadata": {},
     "output_type": "execute_result"
    }
   ],
   "source": [
    "fill_in_res('Baseline', 0.537)"
   ]
  },
  {
   "cell_type": "markdown",
   "metadata": {},
   "source": [
    "### 1. Logistic Regression - Initial set of Features"
   ]
  },
  {
   "cell_type": "code",
   "execution_count": 89,
   "metadata": {},
   "outputs": [],
   "source": [
    "# for testing only select features that have variance or bool\n",
    "# not including 'usd_pleged' as it is a direct indicator on whether a project is succesfull or not \n",
    "# [spotlight] - only successuly funded projects get into spotlight, thus this variable will not be included\n",
    "# backers count countains information that is not available at project launch => should not be included in the analysis\n",
    "\n",
    "# first test logistic with the features that were originally available in the dataset\n",
    "features = ['goal','staff_pick','project_length']"
   ]
  },
  {
   "cell_type": "code",
   "execution_count": 90,
   "metadata": {},
   "outputs": [],
   "source": [
    "# generate X train and test\n",
    "X_train_std_1 = get_X_std(X_train, features)\n",
    "X_test_std_1 = get_X_std(X_test, features)"
   ]
  },
  {
   "cell_type": "code",
   "execution_count": 91,
   "metadata": {},
   "outputs": [
    {
     "data": {
      "text/plain": [
       "GridSearchCV(cv=StratifiedKFold(n_splits=10, random_state=101, shuffle=True),\n",
       "       error_score='raise',\n",
       "       estimator=LogisticRegression(C=1.0, class_weight=None, dual=False, fit_intercept=True,\n",
       "          intercept_scaling=1, max_iter=100, multi_class='ovr', n_jobs=1,\n",
       "          penalty='l2', random_state=101, solver='liblinear', tol=0.0001,\n",
       "          verbose=0, warm_start=False),\n",
       "       fit_params=None, iid=True, n_jobs=1,\n",
       "       param_grid={'C': array([1.000e-03, 5.010e-01, 1.001e+00, 1.501e+00, 2.001e+00, 2.501e+00,\n",
       "       3.001e+00, 3.501e+00, 4.001e+00, 4.501e+00, 5.001e+00, 5.501e+00,\n",
       "       6.001e+00, 6.501e+00, 7.001e+00, 7.501e+00, 8.001e+00, 8.501e+00,\n",
       "       9.001e+00, 9.501e+00])},\n",
       "       pre_dispatch='2*n_jobs', refit=True, return_train_score='warn',\n",
       "       scoring=None, verbose=0)"
      ]
     },
     "execution_count": 91,
     "metadata": {},
     "output_type": "execute_result"
    }
   ],
   "source": [
    "# test different C values on logistics regression\n",
    "parameters = {'C': np.arange(0.001, 10, 0.5)}\n",
    "logr = LogisticRegression(random_state = 101) \n",
    "log_model_1 = GridSearchCV(logr, parameters,cv=kfold)\n",
    "log_model_1.fit(X_train_std_1, y_train)"
   ]
  },
  {
   "cell_type": "code",
   "execution_count": 92,
   "metadata": {},
   "outputs": [
    {
     "data": {
      "text/plain": [
       "{'C': 9.501}"
      ]
     },
     "execution_count": 92,
     "metadata": {},
     "output_type": "execute_result"
    }
   ],
   "source": [
    "log_model_1.best_params_"
   ]
  },
  {
   "cell_type": "code",
   "execution_count": 93,
   "metadata": {},
   "outputs": [
    {
     "data": {
      "text/plain": [
       "0.6360486434662674"
      ]
     },
     "execution_count": 93,
     "metadata": {},
     "output_type": "execute_result"
    }
   ],
   "source": [
    "log_model_1.best_score_"
   ]
  },
  {
   "cell_type": "code",
   "execution_count": 94,
   "metadata": {},
   "outputs": [
    {
     "data": {
      "text/plain": [
       "0.6348773841961853"
      ]
     },
     "execution_count": 94,
     "metadata": {},
     "output_type": "execute_result"
    }
   ],
   "source": [
    "best_log_1 = log_model_1.best_estimator_\n",
    "# check performace on test\n",
    "best_log_1.score(X_test_std_1, y_test)"
   ]
  },
  {
   "cell_type": "code",
   "execution_count": 95,
   "metadata": {},
   "outputs": [
    {
     "data": {
      "text/html": [
       "<div>\n",
       "<style scoped>\n",
       "    .dataframe tbody tr th:only-of-type {\n",
       "        vertical-align: middle;\n",
       "    }\n",
       "\n",
       "    .dataframe tbody tr th {\n",
       "        vertical-align: top;\n",
       "    }\n",
       "\n",
       "    .dataframe thead th {\n",
       "        text-align: right;\n",
       "    }\n",
       "</style>\n",
       "<table border=\"1\" class=\"dataframe\">\n",
       "  <thead>\n",
       "    <tr style=\"text-align: right;\">\n",
       "      <th></th>\n",
       "      <th>model</th>\n",
       "      <th>test_accuracy</th>\n",
       "    </tr>\n",
       "  </thead>\n",
       "  <tbody>\n",
       "    <tr>\n",
       "      <th>0</th>\n",
       "      <td>Baseline</td>\n",
       "      <td>0.537</td>\n",
       "    </tr>\n",
       "    <tr>\n",
       "      <th>1</th>\n",
       "      <td>Log_reg: three base features</td>\n",
       "      <td>0.635</td>\n",
       "    </tr>\n",
       "  </tbody>\n",
       "</table>\n",
       "</div>"
      ],
      "text/plain": [
       "                          model  test_accuracy\n",
       "0                      Baseline          0.537\n",
       "1  Log_reg: three base features          0.635"
      ]
     },
     "execution_count": 95,
     "metadata": {},
     "output_type": "execute_result"
    }
   ],
   "source": [
    "fill_in_res('Log_reg: three base features', best_log_1.score(X_test_std_1, y_test))"
   ]
  },
  {
   "cell_type": "markdown",
   "metadata": {},
   "source": [
    "### 2. Logistic Regression - Add [rewards_count] feature"
   ]
  },
  {
   "cell_type": "code",
   "execution_count": 96,
   "metadata": {},
   "outputs": [],
   "source": [
    "features = ['goal',\n",
    " 'staff_pick',\n",
    " 'project_length',\n",
    " 'rewards_count']"
   ]
  },
  {
   "cell_type": "code",
   "execution_count": 97,
   "metadata": {},
   "outputs": [],
   "source": [
    "# generate x train and test\n",
    "X_train_std_2 = get_X_std(X_train, features)\n",
    "X_test_std_2 = get_X_std(X_test, features)"
   ]
  },
  {
   "cell_type": "code",
   "execution_count": 98,
   "metadata": {},
   "outputs": [
    {
     "data": {
      "text/plain": [
       "GridSearchCV(cv=StratifiedKFold(n_splits=10, random_state=101, shuffle=True),\n",
       "       error_score='raise',\n",
       "       estimator=LogisticRegression(C=1.0, class_weight=None, dual=False, fit_intercept=True,\n",
       "          intercept_scaling=1, max_iter=100, multi_class='ovr', n_jobs=1,\n",
       "          penalty='l2', random_state=101, solver='liblinear', tol=0.0001,\n",
       "          verbose=0, warm_start=False),\n",
       "       fit_params=None, iid=True, n_jobs=1,\n",
       "       param_grid={'C': array([1.000e-03, 5.010e-01, 1.001e+00, 1.501e+00, 2.001e+00, 2.501e+00,\n",
       "       3.001e+00, 3.501e+00, 4.001e+00, 4.501e+00, 5.001e+00, 5.501e+00,\n",
       "       6.001e+00, 6.501e+00, 7.001e+00, 7.501e+00, 8.001e+00, 8.501e+00,\n",
       "       9.001e+00, 9.501e+00])},\n",
       "       pre_dispatch='2*n_jobs', refit=True, return_train_score='warn',\n",
       "       scoring=None, verbose=0)"
      ]
     },
     "execution_count": 98,
     "metadata": {},
     "output_type": "execute_result"
    }
   ],
   "source": [
    "# test different C values on logistics regression\n",
    "parameters = {'C': np.arange(0.001, 10, 0.5)}\n",
    "logr = LogisticRegression(random_state = 101) \n",
    "log_model_2 = GridSearchCV(logr, parameters,cv=kfold)\n",
    "log_model_2.fit(X_train_std_2, y_train)"
   ]
  },
  {
   "cell_type": "code",
   "execution_count": 99,
   "metadata": {},
   "outputs": [
    {
     "data": {
      "text/plain": [
       "{'C': 9.501}"
      ]
     },
     "execution_count": 99,
     "metadata": {},
     "output_type": "execute_result"
    }
   ],
   "source": [
    "log_model_2.best_params_"
   ]
  },
  {
   "cell_type": "code",
   "execution_count": 100,
   "metadata": {},
   "outputs": [
    {
     "data": {
      "text/plain": [
       "0.731704035120179"
      ]
     },
     "execution_count": 100,
     "metadata": {},
     "output_type": "execute_result"
    }
   ],
   "source": [
    "log_model_2.best_score_"
   ]
  },
  {
   "cell_type": "code",
   "execution_count": 101,
   "metadata": {},
   "outputs": [
    {
     "data": {
      "text/plain": [
       "0.7451811484509032"
      ]
     },
     "execution_count": 101,
     "metadata": {},
     "output_type": "execute_result"
    }
   ],
   "source": [
    "best_log_2 = log_model_2.best_estimator_\n",
    "# check performace on test\n",
    "best_log_2.score(X_test_std_2, y_test)"
   ]
  },
  {
   "cell_type": "markdown",
   "metadata": {},
   "source": [
    "#### Observation:\n",
    "- Adding reward-level count increased accuracy level by 11% "
   ]
  },
  {
   "cell_type": "code",
   "execution_count": 102,
   "metadata": {},
   "outputs": [
    {
     "data": {
      "text/html": [
       "<div>\n",
       "<style scoped>\n",
       "    .dataframe tbody tr th:only-of-type {\n",
       "        vertical-align: middle;\n",
       "    }\n",
       "\n",
       "    .dataframe tbody tr th {\n",
       "        vertical-align: top;\n",
       "    }\n",
       "\n",
       "    .dataframe thead th {\n",
       "        text-align: right;\n",
       "    }\n",
       "</style>\n",
       "<table border=\"1\" class=\"dataframe\">\n",
       "  <thead>\n",
       "    <tr style=\"text-align: right;\">\n",
       "      <th></th>\n",
       "      <th>model</th>\n",
       "      <th>test_accuracy</th>\n",
       "    </tr>\n",
       "  </thead>\n",
       "  <tbody>\n",
       "    <tr>\n",
       "      <th>0</th>\n",
       "      <td>Baseline</td>\n",
       "      <td>0.537</td>\n",
       "    </tr>\n",
       "    <tr>\n",
       "      <th>1</th>\n",
       "      <td>Log_reg: three base features</td>\n",
       "      <td>0.635</td>\n",
       "    </tr>\n",
       "    <tr>\n",
       "      <th>2</th>\n",
       "      <td>Log_reg: with rewards_count</td>\n",
       "      <td>0.745</td>\n",
       "    </tr>\n",
       "  </tbody>\n",
       "</table>\n",
       "</div>"
      ],
      "text/plain": [
       "                          model  test_accuracy\n",
       "0                      Baseline          0.537\n",
       "1  Log_reg: three base features          0.635\n",
       "2   Log_reg: with rewards_count          0.745"
      ]
     },
     "execution_count": 102,
     "metadata": {},
     "output_type": "execute_result"
    }
   ],
   "source": [
    "fill_in_res('Log_reg: with rewards_count', best_log_2.score(X_test_std_2, y_test))"
   ]
  },
  {
   "cell_type": "markdown",
   "metadata": {},
   "source": [
    "### 3. Logistic Regression: test ALL features to identify the most important ones"
   ]
  },
  {
   "cell_type": "code",
   "execution_count": 103,
   "metadata": {},
   "outputs": [],
   "source": [
    "# test all features with RandomForest\n",
    "features = ['goal','staff_pick','project_length','rewards_count','first_time_proj','launch_cci','blurb_compound']\n",
    "# add categories to features\n",
    "features.extend(gen_categories)"
   ]
  },
  {
   "cell_type": "code",
   "execution_count": 104,
   "metadata": {},
   "outputs": [],
   "source": [
    "# generate x train and test\n",
    "X_train_std_3 = get_X_std(X_train, features)\n",
    "X_test_std_3 = get_X_std(X_test, features)"
   ]
  },
  {
   "cell_type": "code",
   "execution_count": 105,
   "metadata": {},
   "outputs": [
    {
     "data": {
      "text/plain": [
       "GridSearchCV(cv=StratifiedKFold(n_splits=10, random_state=101, shuffle=True),\n",
       "       error_score='raise',\n",
       "       estimator=LogisticRegression(C=1.0, class_weight=None, dual=False, fit_intercept=True,\n",
       "          intercept_scaling=1, max_iter=100, multi_class='ovr', n_jobs=1,\n",
       "          penalty='l2', random_state=101, solver='liblinear', tol=0.0001,\n",
       "          verbose=0, warm_start=False),\n",
       "       fit_params=None, iid=True, n_jobs=1,\n",
       "       param_grid={'C': array([1.000e-03, 5.010e-01, 1.001e+00, 1.501e+00, 2.001e+00, 2.501e+00,\n",
       "       3.001e+00, 3.501e+00, 4.001e+00, 4.501e+00, 5.001e+00, 5.501e+00,\n",
       "       6.001e+00, 6.501e+00, 7.001e+00, 7.501e+00, 8.001e+00, 8.501e+00,\n",
       "       9.001e+00, 9.501e+00])},\n",
       "       pre_dispatch='2*n_jobs', refit=True, return_train_score='warn',\n",
       "       scoring=None, verbose=0)"
      ]
     },
     "execution_count": 105,
     "metadata": {},
     "output_type": "execute_result"
    }
   ],
   "source": [
    "# test different C values on logistics regression\n",
    "parameters = {'C': np.arange(0.001, 10, 0.5)}\n",
    "logr = LogisticRegression(random_state = 101) \n",
    "log_model_3 = GridSearchCV(logr, parameters,cv=kfold)\n",
    "log_model_3.fit(X_train_std_3, y_train)"
   ]
  },
  {
   "cell_type": "code",
   "execution_count": 106,
   "metadata": {},
   "outputs": [
    {
     "data": {
      "text/plain": [
       "{'C': 9.501}"
      ]
     },
     "execution_count": 106,
     "metadata": {},
     "output_type": "execute_result"
    }
   ],
   "source": [
    "log_model_3.best_params_"
   ]
  },
  {
   "cell_type": "code",
   "execution_count": 107,
   "metadata": {},
   "outputs": [
    {
     "data": {
      "text/plain": [
       "0.7565808285536474"
      ]
     },
     "execution_count": 107,
     "metadata": {},
     "output_type": "execute_result"
    }
   ],
   "source": [
    "log_model_3.best_score_"
   ]
  },
  {
   "cell_type": "code",
   "execution_count": 108,
   "metadata": {},
   "outputs": [
    {
     "data": {
      "text/plain": [
       "0.7592592592592593"
      ]
     },
     "execution_count": 108,
     "metadata": {},
     "output_type": "execute_result"
    }
   ],
   "source": [
    "best_log_3 = log_model_3.best_estimator_\n",
    "# check performace on test\n",
    "best_log_3.score(X_test_std_3, y_test)"
   ]
  },
  {
   "cell_type": "code",
   "execution_count": 109,
   "metadata": {},
   "outputs": [
    {
     "data": {
      "text/html": [
       "<div>\n",
       "<style scoped>\n",
       "    .dataframe tbody tr th:only-of-type {\n",
       "        vertical-align: middle;\n",
       "    }\n",
       "\n",
       "    .dataframe tbody tr th {\n",
       "        vertical-align: top;\n",
       "    }\n",
       "\n",
       "    .dataframe thead th {\n",
       "        text-align: right;\n",
       "    }\n",
       "</style>\n",
       "<table border=\"1\" class=\"dataframe\">\n",
       "  <thead>\n",
       "    <tr style=\"text-align: right;\">\n",
       "      <th></th>\n",
       "      <th>model</th>\n",
       "      <th>test_accuracy</th>\n",
       "    </tr>\n",
       "  </thead>\n",
       "  <tbody>\n",
       "    <tr>\n",
       "      <th>0</th>\n",
       "      <td>Baseline</td>\n",
       "      <td>0.537</td>\n",
       "    </tr>\n",
       "    <tr>\n",
       "      <th>1</th>\n",
       "      <td>Log_reg: three base features</td>\n",
       "      <td>0.635</td>\n",
       "    </tr>\n",
       "    <tr>\n",
       "      <th>2</th>\n",
       "      <td>Log_reg: with rewards_count</td>\n",
       "      <td>0.745</td>\n",
       "    </tr>\n",
       "    <tr>\n",
       "      <th>3</th>\n",
       "      <td>Log_reg: with ALL features</td>\n",
       "      <td>0.759</td>\n",
       "    </tr>\n",
       "  </tbody>\n",
       "</table>\n",
       "</div>"
      ],
      "text/plain": [
       "                          model  test_accuracy\n",
       "0                      Baseline          0.537\n",
       "1  Log_reg: three base features          0.635\n",
       "2   Log_reg: with rewards_count          0.745\n",
       "3    Log_reg: with ALL features          0.759"
      ]
     },
     "execution_count": 109,
     "metadata": {},
     "output_type": "execute_result"
    }
   ],
   "source": [
    "fill_in_res('Log_reg: with ALL features', best_log_3.score(X_test_std_3, y_test))"
   ]
  },
  {
   "cell_type": "code",
   "execution_count": 110,
   "metadata": {},
   "outputs": [
    {
     "data": {
      "text/html": [
       "<div>\n",
       "<style scoped>\n",
       "    .dataframe tbody tr th:only-of-type {\n",
       "        vertical-align: middle;\n",
       "    }\n",
       "\n",
       "    .dataframe tbody tr th {\n",
       "        vertical-align: top;\n",
       "    }\n",
       "\n",
       "    .dataframe thead th {\n",
       "        text-align: right;\n",
       "    }\n",
       "</style>\n",
       "<table border=\"1\" class=\"dataframe\">\n",
       "  <thead>\n",
       "    <tr style=\"text-align: right;\">\n",
       "      <th></th>\n",
       "      <th>index</th>\n",
       "      <th>coefficients</th>\n",
       "      <th>features</th>\n",
       "      <th>exp_coef</th>\n",
       "    </tr>\n",
       "  </thead>\n",
       "  <tbody>\n",
       "    <tr>\n",
       "      <th>0</th>\n",
       "      <td>0</td>\n",
       "      <td>-26.585399</td>\n",
       "      <td>goal</td>\n",
       "      <td>2.845168e-12</td>\n",
       "    </tr>\n",
       "    <tr>\n",
       "      <th>1</th>\n",
       "      <td>3</td>\n",
       "      <td>1.052229</td>\n",
       "      <td>rewards_count</td>\n",
       "      <td>2.864028e+00</td>\n",
       "    </tr>\n",
       "    <tr>\n",
       "      <th>2</th>\n",
       "      <td>1</td>\n",
       "      <td>0.619146</td>\n",
       "      <td>staff_pick</td>\n",
       "      <td>1.857341e+00</td>\n",
       "    </tr>\n",
       "    <tr>\n",
       "      <th>3</th>\n",
       "      <td>20</td>\n",
       "      <td>0.253837</td>\n",
       "      <td>category_publishing</td>\n",
       "      <td>1.288961e+00</td>\n",
       "    </tr>\n",
       "    <tr>\n",
       "      <th>4</th>\n",
       "      <td>2</td>\n",
       "      <td>-0.249232</td>\n",
       "      <td>project_length</td>\n",
       "      <td>7.793992e-01</td>\n",
       "    </tr>\n",
       "    <tr>\n",
       "      <th>5</th>\n",
       "      <td>4</td>\n",
       "      <td>-0.220063</td>\n",
       "      <td>first_time_proj</td>\n",
       "      <td>8.024682e-01</td>\n",
       "    </tr>\n",
       "    <tr>\n",
       "      <th>6</th>\n",
       "      <td>13</td>\n",
       "      <td>-0.219500</td>\n",
       "      <td>category_journalism</td>\n",
       "      <td>8.029204e-01</td>\n",
       "    </tr>\n",
       "    <tr>\n",
       "      <th>7</th>\n",
       "      <td>5</td>\n",
       "      <td>-0.216541</td>\n",
       "      <td>launch_cci</td>\n",
       "      <td>8.052997e-01</td>\n",
       "    </tr>\n",
       "    <tr>\n",
       "      <th>8</th>\n",
       "      <td>8</td>\n",
       "      <td>0.184915</td>\n",
       "      <td>category_music</td>\n",
       "      <td>1.203116e+00</td>\n",
       "    </tr>\n",
       "    <tr>\n",
       "      <th>9</th>\n",
       "      <td>9</td>\n",
       "      <td>-0.182537</td>\n",
       "      <td>category_crafts</td>\n",
       "      <td>8.331540e-01</td>\n",
       "    </tr>\n",
       "    <tr>\n",
       "      <th>10</th>\n",
       "      <td>12</td>\n",
       "      <td>-0.170165</td>\n",
       "      <td>category_food</td>\n",
       "      <td>8.435253e-01</td>\n",
       "    </tr>\n",
       "    <tr>\n",
       "      <th>11</th>\n",
       "      <td>19</td>\n",
       "      <td>-0.122861</td>\n",
       "      <td>category_technology</td>\n",
       "      <td>8.843870e-01</td>\n",
       "    </tr>\n",
       "    <tr>\n",
       "      <th>12</th>\n",
       "      <td>14</td>\n",
       "      <td>-0.111390</td>\n",
       "      <td>category_photography</td>\n",
       "      <td>8.945895e-01</td>\n",
       "    </tr>\n",
       "    <tr>\n",
       "      <th>13</th>\n",
       "      <td>17</td>\n",
       "      <td>0.110448</td>\n",
       "      <td>category_theater</td>\n",
       "      <td>1.116778e+00</td>\n",
       "    </tr>\n",
       "    <tr>\n",
       "      <th>14</th>\n",
       "      <td>15</td>\n",
       "      <td>0.081443</td>\n",
       "      <td>category_dance</td>\n",
       "      <td>1.084851e+00</td>\n",
       "    </tr>\n",
       "    <tr>\n",
       "      <th>15</th>\n",
       "      <td>7</td>\n",
       "      <td>0.059693</td>\n",
       "      <td>category_games</td>\n",
       "      <td>1.061511e+00</td>\n",
       "    </tr>\n",
       "    <tr>\n",
       "      <th>16</th>\n",
       "      <td>18</td>\n",
       "      <td>0.040536</td>\n",
       "      <td>category_comics</td>\n",
       "      <td>1.041368e+00</td>\n",
       "    </tr>\n",
       "    <tr>\n",
       "      <th>17</th>\n",
       "      <td>21</td>\n",
       "      <td>-0.038603</td>\n",
       "      <td>category_art</td>\n",
       "      <td>9.621328e-01</td>\n",
       "    </tr>\n",
       "    <tr>\n",
       "      <th>18</th>\n",
       "      <td>16</td>\n",
       "      <td>-0.034548</td>\n",
       "      <td>category_fashion</td>\n",
       "      <td>9.660424e-01</td>\n",
       "    </tr>\n",
       "    <tr>\n",
       "      <th>19</th>\n",
       "      <td>6</td>\n",
       "      <td>-0.025836</td>\n",
       "      <td>blurb_compound</td>\n",
       "      <td>9.744947e-01</td>\n",
       "    </tr>\n",
       "    <tr>\n",
       "      <th>20</th>\n",
       "      <td>10</td>\n",
       "      <td>0.020956</td>\n",
       "      <td>category_design</td>\n",
       "      <td>1.021177e+00</td>\n",
       "    </tr>\n",
       "    <tr>\n",
       "      <th>21</th>\n",
       "      <td>11</td>\n",
       "      <td>-0.005236</td>\n",
       "      <td>category_film_n_video</td>\n",
       "      <td>9.947773e-01</td>\n",
       "    </tr>\n",
       "  </tbody>\n",
       "</table>\n",
       "</div>"
      ],
      "text/plain": [
       "    index  coefficients               features      exp_coef\n",
       "0       0    -26.585399                   goal  2.845168e-12\n",
       "1       3      1.052229          rewards_count  2.864028e+00\n",
       "2       1      0.619146             staff_pick  1.857341e+00\n",
       "3      20      0.253837    category_publishing  1.288961e+00\n",
       "4       2     -0.249232         project_length  7.793992e-01\n",
       "5       4     -0.220063        first_time_proj  8.024682e-01\n",
       "6      13     -0.219500    category_journalism  8.029204e-01\n",
       "7       5     -0.216541             launch_cci  8.052997e-01\n",
       "8       8      0.184915         category_music  1.203116e+00\n",
       "9       9     -0.182537        category_crafts  8.331540e-01\n",
       "10     12     -0.170165          category_food  8.435253e-01\n",
       "11     19     -0.122861    category_technology  8.843870e-01\n",
       "12     14     -0.111390   category_photography  8.945895e-01\n",
       "13     17      0.110448       category_theater  1.116778e+00\n",
       "14     15      0.081443         category_dance  1.084851e+00\n",
       "15      7      0.059693         category_games  1.061511e+00\n",
       "16     18      0.040536        category_comics  1.041368e+00\n",
       "17     21     -0.038603           category_art  9.621328e-01\n",
       "18     16     -0.034548       category_fashion  9.660424e-01\n",
       "19      6     -0.025836         blurb_compound  9.744947e-01\n",
       "20     10      0.020956        category_design  1.021177e+00\n",
       "21     11     -0.005236  category_film_n_video  9.947773e-01"
      ]
     },
     "execution_count": 110,
     "metadata": {},
     "output_type": "execute_result"
    }
   ],
   "source": [
    "# check log_model coefficients\n",
    "best_log_coefs = pd.DataFrame({'features': features, 'coefficients': best_log_3.coef_[0]})\n",
    "best_log_coefs['exp_coef'] = [np.exp(coef) for coef in best_log_coefs['coefficients']]\n",
    "best_log_coefs['abs_coef'] = [abs(coef) for coef in best_log_coefs['coefficients']]\n",
    "\n",
    "best_log_coefs.sort_values('abs_coef',ascending = False, inplace=True)\n",
    "best_log_coefs.drop(labels=['abs_coef'],axis=1).reset_index()"
   ]
  },
  {
   "cell_type": "markdown",
   "metadata": {},
   "source": [
    "#### Observations:\n",
    "- Among features non-related to project category blurb compound has rather low coefficeint that indicated it does not have much effect on the odds of project success. This aligns with what we saw on the scatter plot above.\n",
    "- The majority of categories appear to have little effect on success odds as well"
   ]
  },
  {
   "cell_type": "markdown",
   "metadata": {},
   "source": [
    "### 4. Logistic Regression on top 10 features"
   ]
  },
  {
   "cell_type": "code",
   "execution_count": 111,
   "metadata": {},
   "outputs": [],
   "source": [
    "features = list(best_log_coefs['features'].head(10))"
   ]
  },
  {
   "cell_type": "code",
   "execution_count": 112,
   "metadata": {},
   "outputs": [],
   "source": [
    "# generate x train and test\n",
    "X_train_std_4 = get_X_std(X_train, features)\n",
    "X_test_std_4 = get_X_std(X_test, features)"
   ]
  },
  {
   "cell_type": "code",
   "execution_count": 113,
   "metadata": {},
   "outputs": [
    {
     "data": {
      "text/plain": [
       "GridSearchCV(cv=StratifiedKFold(n_splits=10, random_state=101, shuffle=True),\n",
       "       error_score='raise',\n",
       "       estimator=LogisticRegression(C=1.0, class_weight=None, dual=False, fit_intercept=True,\n",
       "          intercept_scaling=1, max_iter=100, multi_class='ovr', n_jobs=1,\n",
       "          penalty='l2', random_state=101, solver='liblinear', tol=0.0001,\n",
       "          verbose=0, warm_start=False),\n",
       "       fit_params=None, iid=True, n_jobs=1,\n",
       "       param_grid={'C': array([1.000e-03, 5.010e-01, 1.001e+00, 1.501e+00, 2.001e+00, 2.501e+00,\n",
       "       3.001e+00, 3.501e+00, 4.001e+00, 4.501e+00, 5.001e+00, 5.501e+00,\n",
       "       6.001e+00, 6.501e+00, 7.001e+00, 7.501e+00, 8.001e+00, 8.501e+00,\n",
       "       9.001e+00, 9.501e+00])},\n",
       "       pre_dispatch='2*n_jobs', refit=True, return_train_score='warn',\n",
       "       scoring=None, verbose=0)"
      ]
     },
     "execution_count": 113,
     "metadata": {},
     "output_type": "execute_result"
    }
   ],
   "source": [
    "# test different C values on logistics regression\n",
    "parameters = {'C': np.arange(0.001, 10, 0.5)}\n",
    "logr = LogisticRegression(random_state = 101) \n",
    "log_model_4 = GridSearchCV(logr, parameters,cv=kfold)\n",
    "log_model_4.fit(X_train_std_4, y_train)"
   ]
  },
  {
   "cell_type": "code",
   "execution_count": 114,
   "metadata": {},
   "outputs": [
    {
     "data": {
      "text/plain": [
       "{'C': 7.501}"
      ]
     },
     "execution_count": 114,
     "metadata": {},
     "output_type": "execute_result"
    }
   ],
   "source": [
    "log_model_4.best_params_"
   ]
  },
  {
   "cell_type": "code",
   "execution_count": 115,
   "metadata": {},
   "outputs": [
    {
     "data": {
      "text/plain": [
       "0.7521908061830354"
      ]
     },
     "execution_count": 115,
     "metadata": {},
     "output_type": "execute_result"
    }
   ],
   "source": [
    "log_model_4.best_score_"
   ]
  },
  {
   "cell_type": "code",
   "execution_count": 116,
   "metadata": {},
   "outputs": [
    {
     "data": {
      "text/plain": [
       "0.7558280351195883"
      ]
     },
     "execution_count": 116,
     "metadata": {},
     "output_type": "execute_result"
    }
   ],
   "source": [
    "best_log_4 = log_model_4.best_estimator_\n",
    "# check performace on test\n",
    "best_log_4.score(X_test_std_4, y_test)"
   ]
  },
  {
   "cell_type": "code",
   "execution_count": 117,
   "metadata": {},
   "outputs": [
    {
     "data": {
      "text/html": [
       "<div>\n",
       "<style scoped>\n",
       "    .dataframe tbody tr th:only-of-type {\n",
       "        vertical-align: middle;\n",
       "    }\n",
       "\n",
       "    .dataframe tbody tr th {\n",
       "        vertical-align: top;\n",
       "    }\n",
       "\n",
       "    .dataframe thead th {\n",
       "        text-align: right;\n",
       "    }\n",
       "</style>\n",
       "<table border=\"1\" class=\"dataframe\">\n",
       "  <thead>\n",
       "    <tr style=\"text-align: right;\">\n",
       "      <th></th>\n",
       "      <th>model</th>\n",
       "      <th>test_accuracy</th>\n",
       "    </tr>\n",
       "  </thead>\n",
       "  <tbody>\n",
       "    <tr>\n",
       "      <th>0</th>\n",
       "      <td>Baseline</td>\n",
       "      <td>0.537</td>\n",
       "    </tr>\n",
       "    <tr>\n",
       "      <th>1</th>\n",
       "      <td>Log_reg: three base features</td>\n",
       "      <td>0.635</td>\n",
       "    </tr>\n",
       "    <tr>\n",
       "      <th>2</th>\n",
       "      <td>Log_reg: with rewards_count</td>\n",
       "      <td>0.745</td>\n",
       "    </tr>\n",
       "    <tr>\n",
       "      <th>3</th>\n",
       "      <td>Log_reg: with ALL features</td>\n",
       "      <td>0.759</td>\n",
       "    </tr>\n",
       "    <tr>\n",
       "      <th>4</th>\n",
       "      <td>Log_reg: top 10 features</td>\n",
       "      <td>0.756</td>\n",
       "    </tr>\n",
       "  </tbody>\n",
       "</table>\n",
       "</div>"
      ],
      "text/plain": [
       "                          model  test_accuracy\n",
       "0                      Baseline          0.537\n",
       "1  Log_reg: three base features          0.635\n",
       "2   Log_reg: with rewards_count          0.745\n",
       "3    Log_reg: with ALL features          0.759\n",
       "4      Log_reg: top 10 features          0.756"
      ]
     },
     "execution_count": 117,
     "metadata": {},
     "output_type": "execute_result"
    }
   ],
   "source": [
    "fill_in_res('Log_reg: top 10 features', best_log_4.score(X_test_std_4, y_test))"
   ]
  },
  {
   "cell_type": "code",
   "execution_count": 118,
   "metadata": {},
   "outputs": [
    {
     "data": {
      "text/html": [
       "<div>\n",
       "<style scoped>\n",
       "    .dataframe tbody tr th:only-of-type {\n",
       "        vertical-align: middle;\n",
       "    }\n",
       "\n",
       "    .dataframe tbody tr th {\n",
       "        vertical-align: top;\n",
       "    }\n",
       "\n",
       "    .dataframe thead th {\n",
       "        text-align: right;\n",
       "    }\n",
       "</style>\n",
       "<table border=\"1\" class=\"dataframe\">\n",
       "  <thead>\n",
       "    <tr style=\"text-align: right;\">\n",
       "      <th></th>\n",
       "      <th>index</th>\n",
       "      <th>coefficients</th>\n",
       "      <th>features</th>\n",
       "      <th>exp_coef</th>\n",
       "    </tr>\n",
       "  </thead>\n",
       "  <tbody>\n",
       "    <tr>\n",
       "      <th>0</th>\n",
       "      <td>0</td>\n",
       "      <td>-28.455950</td>\n",
       "      <td>goal</td>\n",
       "      <td>4.382661e-13</td>\n",
       "    </tr>\n",
       "    <tr>\n",
       "      <th>1</th>\n",
       "      <td>1</td>\n",
       "      <td>1.067900</td>\n",
       "      <td>rewards_count</td>\n",
       "      <td>2.909263e+00</td>\n",
       "    </tr>\n",
       "    <tr>\n",
       "      <th>2</th>\n",
       "      <td>2</td>\n",
       "      <td>0.614701</td>\n",
       "      <td>staff_pick</td>\n",
       "      <td>1.849105e+00</td>\n",
       "    </tr>\n",
       "    <tr>\n",
       "      <th>3</th>\n",
       "      <td>3</td>\n",
       "      <td>0.288742</td>\n",
       "      <td>category_publishing</td>\n",
       "      <td>1.334748e+00</td>\n",
       "    </tr>\n",
       "    <tr>\n",
       "      <th>4</th>\n",
       "      <td>4</td>\n",
       "      <td>-0.255670</td>\n",
       "      <td>project_length</td>\n",
       "      <td>7.743974e-01</td>\n",
       "    </tr>\n",
       "    <tr>\n",
       "      <th>5</th>\n",
       "      <td>5</td>\n",
       "      <td>-0.237409</td>\n",
       "      <td>first_time_proj</td>\n",
       "      <td>7.886685e-01</td>\n",
       "    </tr>\n",
       "    <tr>\n",
       "      <th>6</th>\n",
       "      <td>7</td>\n",
       "      <td>-0.225388</td>\n",
       "      <td>launch_cci</td>\n",
       "      <td>7.982065e-01</td>\n",
       "    </tr>\n",
       "    <tr>\n",
       "      <th>7</th>\n",
       "      <td>8</td>\n",
       "      <td>0.220414</td>\n",
       "      <td>category_music</td>\n",
       "      <td>1.246593e+00</td>\n",
       "    </tr>\n",
       "    <tr>\n",
       "      <th>8</th>\n",
       "      <td>6</td>\n",
       "      <td>-0.204041</td>\n",
       "      <td>category_journalism</td>\n",
       "      <td>8.154293e-01</td>\n",
       "    </tr>\n",
       "    <tr>\n",
       "      <th>9</th>\n",
       "      <td>9</td>\n",
       "      <td>-0.165313</td>\n",
       "      <td>category_crafts</td>\n",
       "      <td>8.476283e-01</td>\n",
       "    </tr>\n",
       "  </tbody>\n",
       "</table>\n",
       "</div>"
      ],
      "text/plain": [
       "   index  coefficients             features      exp_coef\n",
       "0      0    -28.455950                 goal  4.382661e-13\n",
       "1      1      1.067900        rewards_count  2.909263e+00\n",
       "2      2      0.614701           staff_pick  1.849105e+00\n",
       "3      3      0.288742  category_publishing  1.334748e+00\n",
       "4      4     -0.255670       project_length  7.743974e-01\n",
       "5      5     -0.237409      first_time_proj  7.886685e-01\n",
       "6      7     -0.225388           launch_cci  7.982065e-01\n",
       "7      8      0.220414       category_music  1.246593e+00\n",
       "8      6     -0.204041  category_journalism  8.154293e-01\n",
       "9      9     -0.165313      category_crafts  8.476283e-01"
      ]
     },
     "execution_count": 118,
     "metadata": {},
     "output_type": "execute_result"
    }
   ],
   "source": [
    "# check log_model coefficients\n",
    "best_log_coefs = pd.DataFrame({'features': features, 'coefficients': best_log_4.coef_[0]})\n",
    "best_log_coefs['exp_coef'] = [np.exp(coef) for coef in best_log_coefs['coefficients']]\n",
    "best_log_coefs['abs_coef'] = [abs(coef) for coef in best_log_coefs['coefficients']]\n",
    "\n",
    "best_log_coefs.sort_values('abs_coef',ascending = False, inplace=True)\n",
    "best_log_coefs.drop(labels=['abs_coef'],axis=1).reset_index()"
   ]
  },
  {
   "cell_type": "markdown",
   "metadata": {},
   "source": [
    "#### Obesrvations:\n",
    "\n",
    "- A standard deviation increase in project length reduces odds of a project being successful by ~ 22.6%\n",
    "- A standard deviation increase in consumer confidence index at project launch reduces odds of a project being successful by ~ 20.2%. This does not seem intuitive, however, it could be a possibility that in harder finintial times people are looking to invest/try alternative options like Kickstarter\n",
    "- Reward-level count has a very strong relationship with project success. One std increase in reward-levels offered increases odds of success by 191%\n",
    "- In terms of project categories: 'publishing' and 'music' have positive correlation with project success while 'journalism' and 'crafts' seem to negativelly affect odds of a project succeeding"
   ]
  },
  {
   "cell_type": "code",
   "execution_count": 119,
   "metadata": {},
   "outputs": [],
   "source": [
    "log_y_predict_4 = best_log_4.predict(X_test_std_4)"
   ]
  },
  {
   "cell_type": "code",
   "execution_count": 120,
   "metadata": {},
   "outputs": [
    {
     "data": {
      "text/plain": [
       "array([[8102, 2538],\n",
       "       [2301, 6877]])"
      ]
     },
     "execution_count": 120,
     "metadata": {},
     "output_type": "execute_result"
    }
   ],
   "source": [
    "confusion_matrix(y_test,log_y_predict_4)"
   ]
  },
  {
   "cell_type": "code",
   "execution_count": 121,
   "metadata": {},
   "outputs": [
    {
     "name": "stdout",
     "output_type": "stream",
     "text": [
      "             precision    recall  f1-score   support\n",
      "\n",
      "          0       0.78      0.76      0.77     10640\n",
      "          1       0.73      0.75      0.74      9178\n",
      "\n",
      "avg / total       0.76      0.76      0.76     19818\n",
      "\n"
     ]
    }
   ],
   "source": [
    "y_pred_log_4 = best_log_4.predict(X_test_std_4)\n",
    "print(metrics.classification_report(y_test,y_pred_log_4))"
   ]
  },
  {
   "cell_type": "markdown",
   "metadata": {},
   "source": [
    "### 5. RandomForest: all features"
   ]
  },
  {
   "cell_type": "code",
   "execution_count": 122,
   "metadata": {},
   "outputs": [],
   "source": [
    "# test all features with RandomForest\n",
    "features = ['goal','staff_pick','project_length','rewards_count','first_time_proj','launch_cci',\n",
    "           'blurb_compound']\n",
    "# add categories to features\n",
    "features.extend(gen_categories)"
   ]
  },
  {
   "cell_type": "code",
   "execution_count": 123,
   "metadata": {},
   "outputs": [],
   "source": [
    "# generate x train and test\n",
    "X_trn_1 = X_train[features]\n",
    "X_tst_1 = X_test[features]"
   ]
  },
  {
   "cell_type": "code",
   "execution_count": 124,
   "metadata": {},
   "outputs": [
    {
     "data": {
      "text/plain": [
       "GridSearchCV(cv=StratifiedKFold(n_splits=10, random_state=101, shuffle=True),\n",
       "       error_score='raise',\n",
       "       estimator=RandomForestClassifier(bootstrap=True, class_weight=None, criterion='gini',\n",
       "            max_depth=None, max_features='auto', max_leaf_nodes=None,\n",
       "            min_impurity_decrease=0.0, min_impurity_split=None,\n",
       "            min_samples_leaf=1, min_samples_split=2,\n",
       "            min_weight_fraction_leaf=0.0, n_estimators=100, n_jobs=-1,\n",
       "            oob_score=False, random_state=123, verbose=0, warm_start=False),\n",
       "       fit_params=None, iid=True, n_jobs=1,\n",
       "       param_grid={'max_features': ['auto', 'log2'], 'min_samples_split': array([10, 20, 30, 40, 50, 60, 70, 80, 90])},\n",
       "       pre_dispatch='2*n_jobs', refit=True, return_train_score='warn',\n",
       "       scoring=None, verbose=0)"
      ]
     },
     "execution_count": 124,
     "metadata": {},
     "output_type": "execute_result"
    }
   ],
   "source": [
    "parameters = {'max_features':['auto','log2'], 'min_samples_split':np.arange(10, 100, 10)}\n",
    "randforest = RandomForestClassifier(n_estimators = 100, n_jobs=-1, random_state=123)\n",
    "rf_model_1 = GridSearchCV(randforest, parameters, cv=kfold)\n",
    "rf_model_1.fit(X_trn_1, y_train)"
   ]
  },
  {
   "cell_type": "code",
   "execution_count": 125,
   "metadata": {},
   "outputs": [
    {
     "data": {
      "text/plain": [
       "{'max_features': 'auto', 'min_samples_split': 40}"
      ]
     },
     "execution_count": 125,
     "metadata": {},
     "output_type": "execute_result"
    }
   ],
   "source": [
    "rf_model_1.best_params_"
   ]
  },
  {
   "cell_type": "code",
   "execution_count": 126,
   "metadata": {},
   "outputs": [
    {
     "data": {
      "text/plain": [
       "0.7943081089263788"
      ]
     },
     "execution_count": 126,
     "metadata": {},
     "output_type": "execute_result"
    }
   ],
   "source": [
    "rf_model_1.best_score_"
   ]
  },
  {
   "cell_type": "code",
   "execution_count": 127,
   "metadata": {},
   "outputs": [
    {
     "data": {
      "text/plain": [
       "0.7874659400544959"
      ]
     },
     "execution_count": 127,
     "metadata": {},
     "output_type": "execute_result"
    }
   ],
   "source": [
    "best_rf_1 = rf_model_1.best_estimator_\n",
    "# check performace on holdout\n",
    "best_rf_1.score(X_tst_1, y_test)"
   ]
  },
  {
   "cell_type": "code",
   "execution_count": 128,
   "metadata": {},
   "outputs": [
    {
     "data": {
      "text/html": [
       "<div>\n",
       "<style scoped>\n",
       "    .dataframe tbody tr th:only-of-type {\n",
       "        vertical-align: middle;\n",
       "    }\n",
       "\n",
       "    .dataframe tbody tr th {\n",
       "        vertical-align: top;\n",
       "    }\n",
       "\n",
       "    .dataframe thead th {\n",
       "        text-align: right;\n",
       "    }\n",
       "</style>\n",
       "<table border=\"1\" class=\"dataframe\">\n",
       "  <thead>\n",
       "    <tr style=\"text-align: right;\">\n",
       "      <th></th>\n",
       "      <th>model</th>\n",
       "      <th>test_accuracy</th>\n",
       "    </tr>\n",
       "  </thead>\n",
       "  <tbody>\n",
       "    <tr>\n",
       "      <th>0</th>\n",
       "      <td>Baseline</td>\n",
       "      <td>0.537</td>\n",
       "    </tr>\n",
       "    <tr>\n",
       "      <th>1</th>\n",
       "      <td>Log_reg: three base features</td>\n",
       "      <td>0.635</td>\n",
       "    </tr>\n",
       "    <tr>\n",
       "      <th>2</th>\n",
       "      <td>Log_reg: with rewards_count</td>\n",
       "      <td>0.745</td>\n",
       "    </tr>\n",
       "    <tr>\n",
       "      <th>3</th>\n",
       "      <td>Log_reg: with ALL features</td>\n",
       "      <td>0.759</td>\n",
       "    </tr>\n",
       "    <tr>\n",
       "      <th>4</th>\n",
       "      <td>Log_reg: top 10 features</td>\n",
       "      <td>0.756</td>\n",
       "    </tr>\n",
       "    <tr>\n",
       "      <th>5</th>\n",
       "      <td>RandomForest: all features</td>\n",
       "      <td>0.787</td>\n",
       "    </tr>\n",
       "  </tbody>\n",
       "</table>\n",
       "</div>"
      ],
      "text/plain": [
       "                          model  test_accuracy\n",
       "0                      Baseline          0.537\n",
       "1  Log_reg: three base features          0.635\n",
       "2   Log_reg: with rewards_count          0.745\n",
       "3    Log_reg: with ALL features          0.759\n",
       "4      Log_reg: top 10 features          0.756\n",
       "5    RandomForest: all features          0.787"
      ]
     },
     "execution_count": 128,
     "metadata": {},
     "output_type": "execute_result"
    }
   ],
   "source": [
    "fill_in_res('RandomForest: all features', best_rf_1.score(X_tst_1, y_test))"
   ]
  },
  {
   "cell_type": "code",
   "execution_count": 129,
   "metadata": {},
   "outputs": [
    {
     "data": {
      "text/html": [
       "<div>\n",
       "<style scoped>\n",
       "    .dataframe tbody tr th:only-of-type {\n",
       "        vertical-align: middle;\n",
       "    }\n",
       "\n",
       "    .dataframe tbody tr th {\n",
       "        vertical-align: top;\n",
       "    }\n",
       "\n",
       "    .dataframe thead th {\n",
       "        text-align: right;\n",
       "    }\n",
       "</style>\n",
       "<table border=\"1\" class=\"dataframe\">\n",
       "  <thead>\n",
       "    <tr style=\"text-align: right;\">\n",
       "      <th></th>\n",
       "      <th>Features</th>\n",
       "      <th>Importance Score</th>\n",
       "    </tr>\n",
       "  </thead>\n",
       "  <tbody>\n",
       "    <tr>\n",
       "      <th>3</th>\n",
       "      <td>rewards_count</td>\n",
       "      <td>0.302721</td>\n",
       "    </tr>\n",
       "    <tr>\n",
       "      <th>0</th>\n",
       "      <td>goal</td>\n",
       "      <td>0.161462</td>\n",
       "    </tr>\n",
       "    <tr>\n",
       "      <th>5</th>\n",
       "      <td>launch_cci</td>\n",
       "      <td>0.131839</td>\n",
       "    </tr>\n",
       "    <tr>\n",
       "      <th>1</th>\n",
       "      <td>staff_pick</td>\n",
       "      <td>0.118495</td>\n",
       "    </tr>\n",
       "    <tr>\n",
       "      <th>2</th>\n",
       "      <td>project_length</td>\n",
       "      <td>0.064630</td>\n",
       "    </tr>\n",
       "    <tr>\n",
       "      <th>6</th>\n",
       "      <td>blurb_compound</td>\n",
       "      <td>0.051767</td>\n",
       "    </tr>\n",
       "    <tr>\n",
       "      <th>20</th>\n",
       "      <td>category_publishing</td>\n",
       "      <td>0.024583</td>\n",
       "    </tr>\n",
       "    <tr>\n",
       "      <th>4</th>\n",
       "      <td>first_time_proj</td>\n",
       "      <td>0.023131</td>\n",
       "    </tr>\n",
       "    <tr>\n",
       "      <th>19</th>\n",
       "      <td>category_technology</td>\n",
       "      <td>0.020130</td>\n",
       "    </tr>\n",
       "    <tr>\n",
       "      <th>8</th>\n",
       "      <td>category_music</td>\n",
       "      <td>0.015753</td>\n",
       "    </tr>\n",
       "    <tr>\n",
       "      <th>21</th>\n",
       "      <td>category_art</td>\n",
       "      <td>0.013805</td>\n",
       "    </tr>\n",
       "    <tr>\n",
       "      <th>12</th>\n",
       "      <td>category_food</td>\n",
       "      <td>0.012743</td>\n",
       "    </tr>\n",
       "    <tr>\n",
       "      <th>9</th>\n",
       "      <td>category_crafts</td>\n",
       "      <td>0.009007</td>\n",
       "    </tr>\n",
       "    <tr>\n",
       "      <th>13</th>\n",
       "      <td>category_journalism</td>\n",
       "      <td>0.008810</td>\n",
       "    </tr>\n",
       "    <tr>\n",
       "      <th>18</th>\n",
       "      <td>category_comics</td>\n",
       "      <td>0.006679</td>\n",
       "    </tr>\n",
       "    <tr>\n",
       "      <th>17</th>\n",
       "      <td>category_theater</td>\n",
       "      <td>0.006525</td>\n",
       "    </tr>\n",
       "    <tr>\n",
       "      <th>14</th>\n",
       "      <td>category_photography</td>\n",
       "      <td>0.005947</td>\n",
       "    </tr>\n",
       "    <tr>\n",
       "      <th>7</th>\n",
       "      <td>category_games</td>\n",
       "      <td>0.005932</td>\n",
       "    </tr>\n",
       "    <tr>\n",
       "      <th>11</th>\n",
       "      <td>category_film_n_video</td>\n",
       "      <td>0.004575</td>\n",
       "    </tr>\n",
       "    <tr>\n",
       "      <th>10</th>\n",
       "      <td>category_design</td>\n",
       "      <td>0.004499</td>\n",
       "    </tr>\n",
       "    <tr>\n",
       "      <th>16</th>\n",
       "      <td>category_fashion</td>\n",
       "      <td>0.003681</td>\n",
       "    </tr>\n",
       "    <tr>\n",
       "      <th>15</th>\n",
       "      <td>category_dance</td>\n",
       "      <td>0.003285</td>\n",
       "    </tr>\n",
       "  </tbody>\n",
       "</table>\n",
       "</div>"
      ],
      "text/plain": [
       "                 Features  Importance Score\n",
       "3           rewards_count          0.302721\n",
       "0                    goal          0.161462\n",
       "5              launch_cci          0.131839\n",
       "1              staff_pick          0.118495\n",
       "2          project_length          0.064630\n",
       "6          blurb_compound          0.051767\n",
       "20    category_publishing          0.024583\n",
       "4         first_time_proj          0.023131\n",
       "19    category_technology          0.020130\n",
       "8          category_music          0.015753\n",
       "21           category_art          0.013805\n",
       "12          category_food          0.012743\n",
       "9         category_crafts          0.009007\n",
       "13    category_journalism          0.008810\n",
       "18        category_comics          0.006679\n",
       "17       category_theater          0.006525\n",
       "14   category_photography          0.005947\n",
       "7          category_games          0.005932\n",
       "11  category_film_n_video          0.004575\n",
       "10        category_design          0.004499\n",
       "16       category_fashion          0.003681\n",
       "15         category_dance          0.003285"
      ]
     },
     "execution_count": 129,
     "metadata": {},
     "output_type": "execute_result"
    }
   ],
   "source": [
    "features = X_trn_1.columns\n",
    "feature_importances = best_rf_1.feature_importances_\n",
    "\n",
    "features_df = pd.DataFrame({'Features': features, 'Importance Score': feature_importances})\n",
    "features_df.sort_values('Importance Score', inplace=True, ascending=False)\n",
    "\n",
    "features_df"
   ]
  },
  {
   "cell_type": "markdown",
   "metadata": {},
   "source": [
    "#### Observations:\n",
    "- Top 10 most important features are for the most part the same as the top 10 features in the Logistic Regression model. However, RandomForest includes blurb compound as one of top 10 features"
   ]
  },
  {
   "cell_type": "code",
   "execution_count": 130,
   "metadata": {},
   "outputs": [],
   "source": [
    "features = list(features_df['Features'])"
   ]
  },
  {
   "cell_type": "code",
   "execution_count": 131,
   "metadata": {},
   "outputs": [],
   "source": [
    "scores = []\n",
    "model = RandomForestClassifier(n_estimators = 100, max_features='auto', min_samples_split=30, n_jobs=-1)\n",
    "\n",
    "for i in range(1,(len(features)+1)):\n",
    "    current_features = features[0:i]\n",
    "    \n",
    "    X_trn_temp = X_train[current_features]\n",
    "    X_tst_temp = X_test[current_features]\n",
    "    \n",
    "    model.fit(X_trn_temp, y_train)\n",
    "    \n",
    "    score = model.score(X_tst_temp, y_test)\n",
    "    scores.append(score)"
   ]
  },
  {
   "cell_type": "code",
   "execution_count": 132,
   "metadata": {},
   "outputs": [],
   "source": [
    "accuracy_by_feat = pd.DataFrame({'features':features,'test_accuracy':scores})"
   ]
  },
  {
   "cell_type": "code",
   "execution_count": 133,
   "metadata": {},
   "outputs": [
    {
     "data": {
      "text/html": [
       "<div>\n",
       "<style scoped>\n",
       "    .dataframe tbody tr th:only-of-type {\n",
       "        vertical-align: middle;\n",
       "    }\n",
       "\n",
       "    .dataframe tbody tr th {\n",
       "        vertical-align: top;\n",
       "    }\n",
       "\n",
       "    .dataframe thead th {\n",
       "        text-align: right;\n",
       "    }\n",
       "</style>\n",
       "<table border=\"1\" class=\"dataframe\">\n",
       "  <thead>\n",
       "    <tr style=\"text-align: right;\">\n",
       "      <th></th>\n",
       "      <th>features</th>\n",
       "      <th>test_accuracy</th>\n",
       "    </tr>\n",
       "  </thead>\n",
       "  <tbody>\n",
       "    <tr>\n",
       "      <th>0</th>\n",
       "      <td>rewards_count</td>\n",
       "      <td>0.688970</td>\n",
       "    </tr>\n",
       "    <tr>\n",
       "      <th>1</th>\n",
       "      <td>goal</td>\n",
       "      <td>0.727420</td>\n",
       "    </tr>\n",
       "    <tr>\n",
       "      <th>2</th>\n",
       "      <td>launch_cci</td>\n",
       "      <td>0.735745</td>\n",
       "    </tr>\n",
       "    <tr>\n",
       "      <th>3</th>\n",
       "      <td>staff_pick</td>\n",
       "      <td>0.757039</td>\n",
       "    </tr>\n",
       "    <tr>\n",
       "      <th>4</th>\n",
       "      <td>project_length</td>\n",
       "      <td>0.765163</td>\n",
       "    </tr>\n",
       "    <tr>\n",
       "      <th>5</th>\n",
       "      <td>blurb_compound</td>\n",
       "      <td>0.766424</td>\n",
       "    </tr>\n",
       "    <tr>\n",
       "      <th>6</th>\n",
       "      <td>category_publishing</td>\n",
       "      <td>0.768392</td>\n",
       "    </tr>\n",
       "    <tr>\n",
       "      <th>7</th>\n",
       "      <td>first_time_proj</td>\n",
       "      <td>0.772076</td>\n",
       "    </tr>\n",
       "    <tr>\n",
       "      <th>8</th>\n",
       "      <td>category_technology</td>\n",
       "      <td>0.774599</td>\n",
       "    </tr>\n",
       "    <tr>\n",
       "      <th>9</th>\n",
       "      <td>category_music</td>\n",
       "      <td>0.776062</td>\n",
       "    </tr>\n",
       "    <tr>\n",
       "      <th>10</th>\n",
       "      <td>category_art</td>\n",
       "      <td>0.778787</td>\n",
       "    </tr>\n",
       "    <tr>\n",
       "      <th>11</th>\n",
       "      <td>category_food</td>\n",
       "      <td>0.778737</td>\n",
       "    </tr>\n",
       "    <tr>\n",
       "      <th>12</th>\n",
       "      <td>category_crafts</td>\n",
       "      <td>0.781411</td>\n",
       "    </tr>\n",
       "    <tr>\n",
       "      <th>13</th>\n",
       "      <td>category_journalism</td>\n",
       "      <td>0.783429</td>\n",
       "    </tr>\n",
       "    <tr>\n",
       "      <th>14</th>\n",
       "      <td>category_comics</td>\n",
       "      <td>0.782016</td>\n",
       "    </tr>\n",
       "    <tr>\n",
       "      <th>15</th>\n",
       "      <td>category_theater</td>\n",
       "      <td>0.783126</td>\n",
       "    </tr>\n",
       "    <tr>\n",
       "      <th>16</th>\n",
       "      <td>category_photography</td>\n",
       "      <td>0.784792</td>\n",
       "    </tr>\n",
       "    <tr>\n",
       "      <th>17</th>\n",
       "      <td>category_games</td>\n",
       "      <td>0.784388</td>\n",
       "    </tr>\n",
       "    <tr>\n",
       "      <th>18</th>\n",
       "      <td>category_film_n_video</td>\n",
       "      <td>0.786003</td>\n",
       "    </tr>\n",
       "    <tr>\n",
       "      <th>19</th>\n",
       "      <td>category_design</td>\n",
       "      <td>0.788425</td>\n",
       "    </tr>\n",
       "    <tr>\n",
       "      <th>20</th>\n",
       "      <td>category_fashion</td>\n",
       "      <td>0.788324</td>\n",
       "    </tr>\n",
       "    <tr>\n",
       "      <th>21</th>\n",
       "      <td>category_dance</td>\n",
       "      <td>0.787668</td>\n",
       "    </tr>\n",
       "  </tbody>\n",
       "</table>\n",
       "</div>"
      ],
      "text/plain": [
       "                 features  test_accuracy\n",
       "0           rewards_count       0.688970\n",
       "1                    goal       0.727420\n",
       "2              launch_cci       0.735745\n",
       "3              staff_pick       0.757039\n",
       "4          project_length       0.765163\n",
       "5          blurb_compound       0.766424\n",
       "6     category_publishing       0.768392\n",
       "7         first_time_proj       0.772076\n",
       "8     category_technology       0.774599\n",
       "9          category_music       0.776062\n",
       "10           category_art       0.778787\n",
       "11          category_food       0.778737\n",
       "12        category_crafts       0.781411\n",
       "13    category_journalism       0.783429\n",
       "14        category_comics       0.782016\n",
       "15       category_theater       0.783126\n",
       "16   category_photography       0.784792\n",
       "17         category_games       0.784388\n",
       "18  category_film_n_video       0.786003\n",
       "19        category_design       0.788425\n",
       "20       category_fashion       0.788324\n",
       "21         category_dance       0.787668"
      ]
     },
     "execution_count": 133,
     "metadata": {},
     "output_type": "execute_result"
    }
   ],
   "source": [
    "accuracy_by_feat"
   ]
  },
  {
   "cell_type": "code",
   "execution_count": 134,
   "metadata": {},
   "outputs": [
    {
     "data": {
      "text/plain": [
       "Text(0.5,1,'N of Features vs. Accuracy')"
      ]
     },
     "execution_count": 134,
     "metadata": {},
     "output_type": "execute_result"
    },
    {
     "data": {
      "image/png": "[encoded data removed]",
      "text/plain": [
       "<Figure size 1296x576 with 1 Axes>"
      ]
     },
     "metadata": {},
     "output_type": "display_data"
    }
   ],
   "source": [
    "plt.figure(figsize=(18,8))\n",
    "\n",
    "plt.plot(range(1,(len(features)+1)), scores)\n",
    "plt.xlabel('Features')\n",
    "plt.ylabel('Test Accuracy')\n",
    "plt.title('N of Features vs. Accuracy',size=14)"
   ]
  },
  {
   "cell_type": "markdown",
   "metadata": {},
   "source": [
    "### 6. RandomForest: top 10 features"
   ]
  },
  {
   "cell_type": "code",
   "execution_count": 135,
   "metadata": {},
   "outputs": [],
   "source": [
    "features = list(features_df['Features'].head(10))"
   ]
  },
  {
   "cell_type": "code",
   "execution_count": 136,
   "metadata": {},
   "outputs": [],
   "source": [
    "# generate x train and test\n",
    "X_trn_2 = X_train[features]\n",
    "X_tst_2 = X_test[features]"
   ]
  },
  {
   "cell_type": "code",
   "execution_count": 137,
   "metadata": {},
   "outputs": [
    {
     "data": {
      "text/plain": [
       "GridSearchCV(cv=StratifiedKFold(n_splits=10, random_state=101, shuffle=True),\n",
       "       error_score='raise',\n",
       "       estimator=RandomForestClassifier(bootstrap=True, class_weight=None, criterion='gini',\n",
       "            max_depth=None, max_features='auto', max_leaf_nodes=None,\n",
       "            min_impurity_decrease=0.0, min_impurity_split=None,\n",
       "            min_samples_leaf=1, min_samples_split=2,\n",
       "            min_weight_fraction_leaf=0.0, n_estimators=100, n_jobs=-1,\n",
       "            oob_score=False, random_state=123, verbose=0, warm_start=False),\n",
       "       fit_params=None, iid=True, n_jobs=1,\n",
       "       param_grid={'max_features': ['auto', 'log2'], 'min_samples_split': array([10, 20, 30, 40, 50, 60, 70, 80, 90])},\n",
       "       pre_dispatch='2*n_jobs', refit=True, return_train_score='warn',\n",
       "       scoring=None, verbose=0)"
      ]
     },
     "execution_count": 137,
     "metadata": {},
     "output_type": "execute_result"
    }
   ],
   "source": [
    "parameters = {'max_features':['auto','log2'], 'min_samples_split':np.arange(10, 100, 10)}\n",
    "randforest = RandomForestClassifier(n_estimators = 100, n_jobs=-1, random_state=123)\n",
    "rf_model_2 = GridSearchCV(randforest, parameters, cv=kfold)\n",
    "rf_model_2.fit(X_trn_2, y_train)"
   ]
  },
  {
   "cell_type": "code",
   "execution_count": 138,
   "metadata": {},
   "outputs": [
    {
     "data": {
      "text/plain": [
       "{'max_features': 'auto', 'min_samples_split': 70}"
      ]
     },
     "execution_count": 138,
     "metadata": {},
     "output_type": "execute_result"
    }
   ],
   "source": [
    "rf_model_2.best_params_"
   ]
  },
  {
   "cell_type": "code",
   "execution_count": 139,
   "metadata": {},
   "outputs": [
    {
     "data": {
      "text/plain": [
       "0.7800279212150775"
      ]
     },
     "execution_count": 139,
     "metadata": {},
     "output_type": "execute_result"
    }
   ],
   "source": [
    "rf_model_2.best_score_"
   ]
  },
  {
   "cell_type": "code",
   "execution_count": 140,
   "metadata": {},
   "outputs": [
    {
     "data": {
      "text/plain": [
       "0.7767685942072863"
      ]
     },
     "execution_count": 140,
     "metadata": {},
     "output_type": "execute_result"
    }
   ],
   "source": [
    "best_rf_2 = rf_model_2.best_estimator_\n",
    "# check performace on test\n",
    "best_rf_2.score(X_tst_2, y_test)"
   ]
  },
  {
   "cell_type": "code",
   "execution_count": 141,
   "metadata": {},
   "outputs": [
    {
     "data": {
      "text/html": [
       "<div>\n",
       "<style scoped>\n",
       "    .dataframe tbody tr th:only-of-type {\n",
       "        vertical-align: middle;\n",
       "    }\n",
       "\n",
       "    .dataframe tbody tr th {\n",
       "        vertical-align: top;\n",
       "    }\n",
       "\n",
       "    .dataframe thead th {\n",
       "        text-align: right;\n",
       "    }\n",
       "</style>\n",
       "<table border=\"1\" class=\"dataframe\">\n",
       "  <thead>\n",
       "    <tr style=\"text-align: right;\">\n",
       "      <th></th>\n",
       "      <th>model</th>\n",
       "      <th>test_accuracy</th>\n",
       "    </tr>\n",
       "  </thead>\n",
       "  <tbody>\n",
       "    <tr>\n",
       "      <th>0</th>\n",
       "      <td>Baseline</td>\n",
       "      <td>0.537</td>\n",
       "    </tr>\n",
       "    <tr>\n",
       "      <th>1</th>\n",
       "      <td>Log_reg: three base features</td>\n",
       "      <td>0.635</td>\n",
       "    </tr>\n",
       "    <tr>\n",
       "      <th>2</th>\n",
       "      <td>Log_reg: with rewards_count</td>\n",
       "      <td>0.745</td>\n",
       "    </tr>\n",
       "    <tr>\n",
       "      <th>3</th>\n",
       "      <td>Log_reg: with ALL features</td>\n",
       "      <td>0.759</td>\n",
       "    </tr>\n",
       "    <tr>\n",
       "      <th>4</th>\n",
       "      <td>Log_reg: top 10 features</td>\n",
       "      <td>0.756</td>\n",
       "    </tr>\n",
       "    <tr>\n",
       "      <th>5</th>\n",
       "      <td>RandomForest: all features</td>\n",
       "      <td>0.787</td>\n",
       "    </tr>\n",
       "    <tr>\n",
       "      <th>6</th>\n",
       "      <td>RandomForest: top 10 features</td>\n",
       "      <td>0.777</td>\n",
       "    </tr>\n",
       "  </tbody>\n",
       "</table>\n",
       "</div>"
      ],
      "text/plain": [
       "                           model  test_accuracy\n",
       "0                       Baseline          0.537\n",
       "1   Log_reg: three base features          0.635\n",
       "2    Log_reg: with rewards_count          0.745\n",
       "3     Log_reg: with ALL features          0.759\n",
       "4       Log_reg: top 10 features          0.756\n",
       "5     RandomForest: all features          0.787\n",
       "6  RandomForest: top 10 features          0.777"
      ]
     },
     "execution_count": 141,
     "metadata": {},
     "output_type": "execute_result"
    }
   ],
   "source": [
    "fill_in_res('RandomForest: top 10 features', best_rf_2.score(X_tst_2, y_test))"
   ]
  },
  {
   "cell_type": "code",
   "execution_count": 142,
   "metadata": {},
   "outputs": [
    {
     "data": {
      "text/html": [
       "<div>\n",
       "<style scoped>\n",
       "    .dataframe tbody tr th:only-of-type {\n",
       "        vertical-align: middle;\n",
       "    }\n",
       "\n",
       "    .dataframe tbody tr th {\n",
       "        vertical-align: top;\n",
       "    }\n",
       "\n",
       "    .dataframe thead th {\n",
       "        text-align: right;\n",
       "    }\n",
       "</style>\n",
       "<table border=\"1\" class=\"dataframe\">\n",
       "  <thead>\n",
       "    <tr style=\"text-align: right;\">\n",
       "      <th></th>\n",
       "      <th>Features</th>\n",
       "      <th>Importance Score</th>\n",
       "    </tr>\n",
       "  </thead>\n",
       "  <tbody>\n",
       "    <tr>\n",
       "      <th>0</th>\n",
       "      <td>rewards_count</td>\n",
       "      <td>0.367359</td>\n",
       "    </tr>\n",
       "    <tr>\n",
       "      <th>1</th>\n",
       "      <td>goal</td>\n",
       "      <td>0.186821</td>\n",
       "    </tr>\n",
       "    <tr>\n",
       "      <th>3</th>\n",
       "      <td>staff_pick</td>\n",
       "      <td>0.132201</td>\n",
       "    </tr>\n",
       "    <tr>\n",
       "      <th>2</th>\n",
       "      <td>launch_cci</td>\n",
       "      <td>0.124591</td>\n",
       "    </tr>\n",
       "    <tr>\n",
       "      <th>4</th>\n",
       "      <td>project_length</td>\n",
       "      <td>0.059828</td>\n",
       "    </tr>\n",
       "    <tr>\n",
       "      <th>5</th>\n",
       "      <td>blurb_compound</td>\n",
       "      <td>0.047053</td>\n",
       "    </tr>\n",
       "    <tr>\n",
       "      <th>6</th>\n",
       "      <td>category_publishing</td>\n",
       "      <td>0.027060</td>\n",
       "    </tr>\n",
       "    <tr>\n",
       "      <th>7</th>\n",
       "      <td>first_time_proj</td>\n",
       "      <td>0.020107</td>\n",
       "    </tr>\n",
       "    <tr>\n",
       "      <th>9</th>\n",
       "      <td>category_music</td>\n",
       "      <td>0.018358</td>\n",
       "    </tr>\n",
       "    <tr>\n",
       "      <th>8</th>\n",
       "      <td>category_technology</td>\n",
       "      <td>0.016622</td>\n",
       "    </tr>\n",
       "  </tbody>\n",
       "</table>\n",
       "</div>"
      ],
      "text/plain": [
       "              Features  Importance Score\n",
       "0        rewards_count          0.367359\n",
       "1                 goal          0.186821\n",
       "3           staff_pick          0.132201\n",
       "2           launch_cci          0.124591\n",
       "4       project_length          0.059828\n",
       "5       blurb_compound          0.047053\n",
       "6  category_publishing          0.027060\n",
       "7      first_time_proj          0.020107\n",
       "9       category_music          0.018358\n",
       "8  category_technology          0.016622"
      ]
     },
     "execution_count": 142,
     "metadata": {},
     "output_type": "execute_result"
    }
   ],
   "source": [
    "features = X_trn_2.columns\n",
    "feature_importances = best_rf_2.feature_importances_\n",
    "\n",
    "features_df = pd.DataFrame({'Features': features, 'Importance Score': feature_importances})\n",
    "features_df.sort_values('Importance Score', inplace=True, ascending=False)\n",
    "\n",
    "features_df"
   ]
  },
  {
   "cell_type": "code",
   "execution_count": 143,
   "metadata": {},
   "outputs": [],
   "source": [
    "y_pred_rf_2 = best_rf_2.predict(X_tst_2)"
   ]
  },
  {
   "cell_type": "code",
   "execution_count": 144,
   "metadata": {},
   "outputs": [
    {
     "name": "stdout",
     "output_type": "stream",
     "text": [
      "             precision    recall  f1-score   support\n",
      "\n",
      "          0       0.81      0.76      0.79     10640\n",
      "          1       0.74      0.79      0.77      9178\n",
      "\n",
      "avg / total       0.78      0.78      0.78     19818\n",
      "\n"
     ]
    }
   ],
   "source": [
    "print(metrics.classification_report(y_test,y_pred_rf_2))"
   ]
  },
  {
   "cell_type": "markdown",
   "metadata": {},
   "source": [
    "### 7. NaiveBayes & LogisticRegression"
   ]
  },
  {
   "cell_type": "code",
   "execution_count": 145,
   "metadata": {},
   "outputs": [],
   "source": [
    "# continuous features\n",
    "cont_features = ['goal','project_length','rewards_count','launch_cci','blurb_compound']\n",
    "# binary features\n",
    "binary_features = ['staff_pick','first_time_proj']\n",
    "binary_features.extend(gen_categories)"
   ]
  },
  {
   "cell_type": "code",
   "execution_count": 146,
   "metadata": {},
   "outputs": [],
   "source": [
    "# generate x train and test for Gaussian \n",
    "X_trn_g = X_train[cont_features]\n",
    "X_tst_g = X_test[cont_features]\n",
    "\n",
    "# generate x train and test for Bernoulli\n",
    "X_trn_b = X_train[binary_features]\n",
    "X_tst_b = X_test[binary_features]"
   ]
  },
  {
   "cell_type": "code",
   "execution_count": 147,
   "metadata": {},
   "outputs": [
    {
     "data": {
      "text/plain": [
       "GaussianNB(priors=None)"
      ]
     },
     "execution_count": 147,
     "metadata": {},
     "output_type": "execute_result"
    }
   ],
   "source": [
    "# fit NB Gaussian\n",
    "NB_gaus = naive_bayes.GaussianNB()\n",
    "NB_gaus.fit(X_trn_g, y_train)"
   ]
  },
  {
   "cell_type": "code",
   "execution_count": 148,
   "metadata": {},
   "outputs": [
    {
     "data": {
      "text/plain": [
       "BernoulliNB(alpha=1.0, binarize=0.0, class_prior=None, fit_prior=True)"
      ]
     },
     "execution_count": 148,
     "metadata": {},
     "output_type": "execute_result"
    }
   ],
   "source": [
    "# fit NB Gaussian\n",
    "NB_bern = naive_bayes.BernoulliNB()\n",
    "NB_bern.fit(X_trn_b, y_train)"
   ]
  },
  {
   "cell_type": "code",
   "execution_count": 149,
   "metadata": {},
   "outputs": [],
   "source": [
    "# Gaussian\n",
    "y_train_proba_G = NB_gaus.predict_proba(X_trn_g)\n",
    "y_test_proba_G = NB_gaus.predict_proba(X_tst_g)\n",
    "# Bernoulli\n",
    "y_train_proba_B = NB_bern.predict_proba(X_trn_b)\n",
    "y_test_proba_B = NB_bern.predict_proba(X_tst_b)"
   ]
  },
  {
   "cell_type": "code",
   "execution_count": 150,
   "metadata": {},
   "outputs": [],
   "source": [
    "X_train_bayes = pd.DataFrame({'guas':y_train_proba_G[:,1], 'bern':y_train_proba_B[:,1]})\n",
    "X_test_bayes = pd.DataFrame({'guas':y_test_proba_G[:,1], 'bern':y_test_proba_B[:,1]})"
   ]
  },
  {
   "cell_type": "code",
   "execution_count": 151,
   "metadata": {},
   "outputs": [
    {
     "data": {
      "text/plain": [
       "GridSearchCV(cv=StratifiedKFold(n_splits=10, random_state=101, shuffle=True),\n",
       "       error_score='raise',\n",
       "       estimator=LogisticRegression(C=1.0, class_weight=None, dual=False, fit_intercept=True,\n",
       "          intercept_scaling=1, max_iter=100, multi_class='ovr', n_jobs=1,\n",
       "          penalty='l2', random_state=101, solver='liblinear', tol=0.0001,\n",
       "          verbose=0, warm_start=False),\n",
       "       fit_params=None, iid=True, n_jobs=1,\n",
       "       param_grid={'C': array([1.000e-03, 5.010e-01, 1.001e+00, 1.501e+00, 2.001e+00, 2.501e+00,\n",
       "       3.001e+00, 3.501e+00, 4.001e+00, 4.501e+00, 5.001e+00, 5.501e+00,\n",
       "       6.001e+00, 6.501e+00, 7.001e+00, 7.501e+00, 8.001e+00, 8.501e+00,\n",
       "       9.001e+00, 9.501e+00])},\n",
       "       pre_dispatch='2*n_jobs', refit=True, return_train_score='warn',\n",
       "       scoring=None, verbose=0)"
      ]
     },
     "execution_count": 151,
     "metadata": {},
     "output_type": "execute_result"
    }
   ],
   "source": [
    "# test different C values on logistics regression\n",
    "parameters = {'C': np.arange(0.001, 10, 0.5)}\n",
    "logr = LogisticRegression(random_state = 101) \n",
    "log_model_NB = GridSearchCV(logr, parameters,cv=kfold)\n",
    "log_model_NB.fit(X_train_bayes, y_train)"
   ]
  },
  {
   "cell_type": "code",
   "execution_count": 152,
   "metadata": {},
   "outputs": [
    {
     "data": {
      "text/plain": [
       "{'C': 1.001}"
      ]
     },
     "execution_count": 152,
     "metadata": {},
     "output_type": "execute_result"
    }
   ],
   "source": [
    "log_model_NB.best_params_"
   ]
  },
  {
   "cell_type": "code",
   "execution_count": 153,
   "metadata": {},
   "outputs": [
    {
     "data": {
      "text/plain": [
       "0.6818831682169109"
      ]
     },
     "execution_count": 153,
     "metadata": {},
     "output_type": "execute_result"
    }
   ],
   "source": [
    "log_model_NB.best_score_"
   ]
  },
  {
   "cell_type": "code",
   "execution_count": 154,
   "metadata": {},
   "outputs": [
    {
     "data": {
      "text/plain": [
       "0.6793823796548593"
      ]
     },
     "execution_count": 154,
     "metadata": {},
     "output_type": "execute_result"
    }
   ],
   "source": [
    "best_log_model_NB = log_model_NB.best_estimator_\n",
    "# check performace on holdout\n",
    "best_log_model_NB.score(X_test_bayes, y_test)"
   ]
  },
  {
   "cell_type": "code",
   "execution_count": 155,
   "metadata": {},
   "outputs": [
    {
     "data": {
      "text/html": [
       "<div>\n",
       "<style scoped>\n",
       "    .dataframe tbody tr th:only-of-type {\n",
       "        vertical-align: middle;\n",
       "    }\n",
       "\n",
       "    .dataframe tbody tr th {\n",
       "        vertical-align: top;\n",
       "    }\n",
       "\n",
       "    .dataframe thead th {\n",
       "        text-align: right;\n",
       "    }\n",
       "</style>\n",
       "<table border=\"1\" class=\"dataframe\">\n",
       "  <thead>\n",
       "    <tr style=\"text-align: right;\">\n",
       "      <th></th>\n",
       "      <th>model</th>\n",
       "      <th>test_accuracy</th>\n",
       "    </tr>\n",
       "  </thead>\n",
       "  <tbody>\n",
       "    <tr>\n",
       "      <th>0</th>\n",
       "      <td>Baseline</td>\n",
       "      <td>0.537</td>\n",
       "    </tr>\n",
       "    <tr>\n",
       "      <th>1</th>\n",
       "      <td>Log_reg: three base features</td>\n",
       "      <td>0.635</td>\n",
       "    </tr>\n",
       "    <tr>\n",
       "      <th>2</th>\n",
       "      <td>Log_reg: with rewards_count</td>\n",
       "      <td>0.745</td>\n",
       "    </tr>\n",
       "    <tr>\n",
       "      <th>3</th>\n",
       "      <td>Log_reg: with ALL features</td>\n",
       "      <td>0.759</td>\n",
       "    </tr>\n",
       "    <tr>\n",
       "      <th>4</th>\n",
       "      <td>Log_reg: top 10 features</td>\n",
       "      <td>0.756</td>\n",
       "    </tr>\n",
       "    <tr>\n",
       "      <th>5</th>\n",
       "      <td>RandomForest: all features</td>\n",
       "      <td>0.787</td>\n",
       "    </tr>\n",
       "    <tr>\n",
       "      <th>6</th>\n",
       "      <td>RandomForest: top 10 features</td>\n",
       "      <td>0.777</td>\n",
       "    </tr>\n",
       "    <tr>\n",
       "      <th>7</th>\n",
       "      <td>LogReg: Bayes Combo</td>\n",
       "      <td>0.679</td>\n",
       "    </tr>\n",
       "  </tbody>\n",
       "</table>\n",
       "</div>"
      ],
      "text/plain": [
       "                           model  test_accuracy\n",
       "0                       Baseline          0.537\n",
       "1   Log_reg: three base features          0.635\n",
       "2    Log_reg: with rewards_count          0.745\n",
       "3     Log_reg: with ALL features          0.759\n",
       "4       Log_reg: top 10 features          0.756\n",
       "5     RandomForest: all features          0.787\n",
       "6  RandomForest: top 10 features          0.777\n",
       "7            LogReg: Bayes Combo          0.679"
      ]
     },
     "execution_count": 155,
     "metadata": {},
     "output_type": "execute_result"
    }
   ],
   "source": [
    "fill_in_res('LogReg: Bayes Combo', best_log_model_NB.score(X_test_bayes, y_test))"
   ]
  },
  {
   "cell_type": "markdown",
   "metadata": {},
   "source": [
    "### 8. KNN: Top features that overlap in LogReg and RF"
   ]
  },
  {
   "cell_type": "code",
   "execution_count": 156,
   "metadata": {},
   "outputs": [],
   "source": [
    "# test KNN model with features that appeared to be the most important ones \n",
    "# in both Logistic Regressiona and Random Forest\n",
    "\n",
    "features = ['goal',\n",
    "'launch_cci',\n",
    "'project_length',\n",
    "'rewards_count',\n",
    "'staff_pick',\n",
    "'first_time_proj',\n",
    "'category_music',\n",
    "'category_publishing']\n",
    "\n",
    "# generate X train and test\n",
    "X_train_std_5 = get_X_std(X_train, features)\n",
    "X_test_std_5 = get_X_std(X_test, features)"
   ]
  },
  {
   "cell_type": "code",
   "execution_count": 157,
   "metadata": {},
   "outputs": [
    {
     "data": {
      "text/plain": [
       "GridSearchCV(cv=StratifiedKFold(n_splits=10, random_state=101, shuffle=True),\n",
       "       error_score='raise',\n",
       "       estimator=KNeighborsClassifier(algorithm='auto', leaf_size=30, metric='minkowski',\n",
       "           metric_params=None, n_jobs=-1, n_neighbors=5, p=2,\n",
       "           weights='uniform'),\n",
       "       fit_params=None, iid=True, n_jobs=1,\n",
       "       param_grid={'n_neighbors': array([ 5,  6,  7,  8,  9, 10, 11, 12, 13, 14, 15, 16, 17, 18, 19, 20, 21,\n",
       "       22, 23, 24, 25, 26, 27, 28, 29, 30, 31, 32, 33, 34])},\n",
       "       pre_dispatch='2*n_jobs', refit=True, return_train_score='warn',\n",
       "       scoring=None, verbose=0)"
      ]
     },
     "execution_count": 157,
     "metadata": {},
     "output_type": "execute_result"
    }
   ],
   "source": [
    "parameters = {'n_neighbors': np.arange(5, 35)}\n",
    "knn = neighbors.KNeighborsClassifier(n_jobs=-1)\n",
    "knn_model = GridSearchCV(knn, parameters,cv=kfold)\n",
    "knn_model.fit(X_train_std_5, y_train)"
   ]
  },
  {
   "cell_type": "code",
   "execution_count": 158,
   "metadata": {},
   "outputs": [
    {
     "data": {
      "text/plain": [
       "{'n_neighbors': 25}"
      ]
     },
     "execution_count": 158,
     "metadata": {},
     "output_type": "execute_result"
    }
   ],
   "source": [
    "knn_model.best_params_"
   ]
  },
  {
   "cell_type": "code",
   "execution_count": 159,
   "metadata": {},
   "outputs": [
    {
     "data": {
      "text/plain": [
       "0.749634164802449"
      ]
     },
     "execution_count": 159,
     "metadata": {},
     "output_type": "execute_result"
    }
   ],
   "source": [
    "knn_model.best_score_"
   ]
  },
  {
   "cell_type": "code",
   "execution_count": 160,
   "metadata": {},
   "outputs": [
    {
     "data": {
      "text/plain": [
       "0.7478050257341811"
      ]
     },
     "execution_count": 160,
     "metadata": {},
     "output_type": "execute_result"
    }
   ],
   "source": [
    "best_knn = knn_model.best_estimator_\n",
    "# check performace on test\n",
    "best_knn.score(X_test_std_5, y_test)"
   ]
  },
  {
   "cell_type": "code",
   "execution_count": 161,
   "metadata": {},
   "outputs": [
    {
     "data": {
      "text/html": [
       "<div>\n",
       "<style scoped>\n",
       "    .dataframe tbody tr th:only-of-type {\n",
       "        vertical-align: middle;\n",
       "    }\n",
       "\n",
       "    .dataframe tbody tr th {\n",
       "        vertical-align: top;\n",
       "    }\n",
       "\n",
       "    .dataframe thead th {\n",
       "        text-align: right;\n",
       "    }\n",
       "</style>\n",
       "<table border=\"1\" class=\"dataframe\">\n",
       "  <thead>\n",
       "    <tr style=\"text-align: right;\">\n",
       "      <th></th>\n",
       "      <th>model</th>\n",
       "      <th>test_accuracy</th>\n",
       "    </tr>\n",
       "  </thead>\n",
       "  <tbody>\n",
       "    <tr>\n",
       "      <th>0</th>\n",
       "      <td>Baseline</td>\n",
       "      <td>0.537</td>\n",
       "    </tr>\n",
       "    <tr>\n",
       "      <th>1</th>\n",
       "      <td>Log_reg: three base features</td>\n",
       "      <td>0.635</td>\n",
       "    </tr>\n",
       "    <tr>\n",
       "      <th>2</th>\n",
       "      <td>Log_reg: with rewards_count</td>\n",
       "      <td>0.745</td>\n",
       "    </tr>\n",
       "    <tr>\n",
       "      <th>3</th>\n",
       "      <td>Log_reg: with ALL features</td>\n",
       "      <td>0.759</td>\n",
       "    </tr>\n",
       "    <tr>\n",
       "      <th>4</th>\n",
       "      <td>Log_reg: top 10 features</td>\n",
       "      <td>0.756</td>\n",
       "    </tr>\n",
       "    <tr>\n",
       "      <th>5</th>\n",
       "      <td>RandomForest: all features</td>\n",
       "      <td>0.787</td>\n",
       "    </tr>\n",
       "    <tr>\n",
       "      <th>6</th>\n",
       "      <td>RandomForest: top 10 features</td>\n",
       "      <td>0.777</td>\n",
       "    </tr>\n",
       "    <tr>\n",
       "      <th>7</th>\n",
       "      <td>LogReg: Bayes Combo</td>\n",
       "      <td>0.679</td>\n",
       "    </tr>\n",
       "    <tr>\n",
       "      <th>8</th>\n",
       "      <td>Knn: top 8 features</td>\n",
       "      <td>0.748</td>\n",
       "    </tr>\n",
       "  </tbody>\n",
       "</table>\n",
       "</div>"
      ],
      "text/plain": [
       "                           model  test_accuracy\n",
       "0                       Baseline          0.537\n",
       "1   Log_reg: three base features          0.635\n",
       "2    Log_reg: with rewards_count          0.745\n",
       "3     Log_reg: with ALL features          0.759\n",
       "4       Log_reg: top 10 features          0.756\n",
       "5     RandomForest: all features          0.787\n",
       "6  RandomForest: top 10 features          0.777\n",
       "7            LogReg: Bayes Combo          0.679\n",
       "8            Knn: top 8 features          0.748"
      ]
     },
     "execution_count": 161,
     "metadata": {},
     "output_type": "execute_result"
    }
   ],
   "source": [
    "fill_in_res('Knn: top 8 features', best_knn.score(X_test_std_5, y_test))"
   ]
  },
  {
   "cell_type": "markdown",
   "metadata": {},
   "source": [
    "### Model Comparison"
   ]
  },
  {
   "cell_type": "code",
   "execution_count": 162,
   "metadata": {},
   "outputs": [],
   "source": [
    "# generate predictions for all models to be ploted \n",
    "\n",
    "\n",
    "# RandomForest: all features\n",
    "y_score_rf_1 = best_rf_1.predict_proba(X_tst_1)[:,1]\n",
    "fpr1, tpr1,_ = roc_curve(y_test, y_score_rf_1)\n",
    "roc_auc1 = auc(fpr1, tpr1)\n",
    "\n",
    "# RandomForest: top 10 featuers\n",
    "y_score_rf_2 = best_rf_2.predict_proba(X_tst_2)[:,1]\n",
    "fpr2, tpr2,_ = roc_curve(y_test, y_score_rf_2)\n",
    "roc_auc2 = auc(fpr1, tpr1)\n",
    "\n",
    "# Log_reg: with ALL features\n",
    "y_score_log_3 =best_log_3.predict_proba(X_test_std_3)[:,1]\n",
    "fpr3, tpr3,_ = roc_curve(y_test, y_score_log_3)\n",
    "roc_auc3 = auc(fpr3, tpr3)\n",
    "\n",
    "# Log_reg: top 10 features\n",
    "y_score_log_4 =best_log_4.predict_proba(X_test_std_4)[:,1]\n",
    "fpr4, tpr4,_ = roc_curve(y_test, y_score_log_4)\n",
    "roc_auc4 = auc(fpr4, tpr4)\n",
    "\n",
    "# KNN \n"
   ]
  },
  {
   "cell_type": "code",
   "execution_count": 163,
   "metadata": {},
   "outputs": [
    {
     "data": {
      "text/plain": [
       "<matplotlib.legend.Legend at 0x7f029af926d8>"
      ]
     },
     "execution_count": 163,
     "metadata": {},
     "output_type": "execute_result"
    },
    {
     "data": {
      "image/png": "[encoded data removed]",
      "text/plain": [
       "<Figure size 1296x576 with 1 Axes>"
      ]
     },
     "metadata": {},
     "output_type": "display_data"
    }
   ],
   "source": [
    "plt.figure(figsize=(18,8))\n",
    "\n",
    "# plot baseline\n",
    "plt.plot([0,1],[0,1])\n",
    "\n",
    "plt.plot(fpr1,tpr1)\n",
    "plt.plot(fpr2,tpr2)\n",
    "plt.plot(fpr3,tpr3)\n",
    "plt.plot(fpr4,tpr4)\n",
    "\n",
    "plt.xlabel('FPR')\n",
    "plt.ylabel('TPR')\n",
    "\n",
    "plt.legend(['Base','RF: all features', 'RFL Top 10', 'Log_reg: all features', 'Log_reg: Top 10'])"
   ]
  },
  {
   "cell_type": "code",
   "execution_count": 164,
   "metadata": {},
   "outputs": [
    {
     "name": "stdout",
     "output_type": "stream",
     "text": [
      "RF: all features:      0.8767\n",
      "RFL Top 10:            0.8767\n",
      "Log_reg: all features: 0.8408\n",
      "Log_reg: Top 10        0.8387\n"
     ]
    }
   ],
   "source": [
    "print('RF: all features:     ', round(roc_auc1,4))\n",
    "print('RFL Top 10:           ', round(roc_auc2,4))\n",
    "print('Log_reg: all features:', round(roc_auc3,4))\n",
    "print('Log_reg: Top 10       ', round(roc_auc4,4))"
   ]
  },
  {
   "cell_type": "markdown",
   "metadata": {},
   "source": [
    "### Try Enemble on RF, LogReg and KNN"
   ]
  },
  {
   "cell_type": "code",
   "execution_count": 165,
   "metadata": {},
   "outputs": [],
   "source": [
    "features = ['goal',\n",
    "'launch_cci',\n",
    "'project_length',\n",
    "'rewards_count',\n",
    "'staff_pick',\n",
    "'first_time_proj',\n",
    "'category_music',\n",
    "'category_publishing']\n",
    "\n",
    "# generate X train and test\n",
    "X_train_std_6 = get_X_std(X_train, features)\n",
    "X_test_std_6 = get_X_std(X_test, features)"
   ]
  },
  {
   "cell_type": "code",
   "execution_count": 166,
   "metadata": {},
   "outputs": [],
   "source": [
    "#Logistic\n",
    "log_reg = log_model_4.best_estimator_\n",
    "\n",
    "# RandomForest\n",
    "rf = rf_model_2.best_estimator_\n",
    "\n",
    "#KNN\n",
    "knn = neighbors.KNeighborsClassifier(n_neighbors=25, n_jobs=-1)\n",
    "\n",
    "eclf = VotingClassifier(estimators=[('lr', log_reg), ('rf', rf), ('knn', knn)], voting='hard')\n",
    "eclf = eclf.fit(X_train_std_6, y_train)"
   ]
  },
  {
   "cell_type": "code",
   "execution_count": 167,
   "metadata": {},
   "outputs": [
    {
     "name": "stderr",
     "output_type": "stream",
     "text": [
      "/home/ubuntu/miniconda3/lib/python3.6/site-packages/sklearn/preprocessing/label.py:151: DeprecationWarning: The truth value of an empty array is ambiguous. Returning False, but in future this will result in an error. Use `array.size > 0` to check that an array is not empty.\n",
      "  if diff:\n"
     ]
    },
    {
     "data": {
      "text/plain": [
       "0.7843674835584411"
      ]
     },
     "execution_count": 167,
     "metadata": {},
     "output_type": "execute_result"
    }
   ],
   "source": [
    "eclf.score(X_train_std_6, y_train)"
   ]
  },
  {
   "cell_type": "code",
   "execution_count": 168,
   "metadata": {},
   "outputs": [
    {
     "name": "stderr",
     "output_type": "stream",
     "text": [
      "/home/ubuntu/miniconda3/lib/python3.6/site-packages/sklearn/preprocessing/label.py:151: DeprecationWarning: The truth value of an empty array is ambiguous. Returning False, but in future this will result in an error. Use `array.size > 0` to check that an array is not empty.\n",
      "  if diff:\n"
     ]
    },
    {
     "data": {
      "text/plain": [
       "0.7647593097184378"
      ]
     },
     "execution_count": 168,
     "metadata": {},
     "output_type": "execute_result"
    }
   ],
   "source": [
    "eclf.score(X_test_std_6, y_test)"
   ]
  },
  {
   "cell_type": "code",
   "execution_count": 169,
   "metadata": {},
   "outputs": [
    {
     "name": "stderr",
     "output_type": "stream",
     "text": [
      "/home/ubuntu/miniconda3/lib/python3.6/site-packages/sklearn/preprocessing/label.py:151: DeprecationWarning: The truth value of an empty array is ambiguous. Returning False, but in future this will result in an error. Use `array.size > 0` to check that an array is not empty.\n",
      "  if diff:\n"
     ]
    },
    {
     "data": {
      "text/html": [
       "<div>\n",
       "<style scoped>\n",
       "    .dataframe tbody tr th:only-of-type {\n",
       "        vertical-align: middle;\n",
       "    }\n",
       "\n",
       "    .dataframe tbody tr th {\n",
       "        vertical-align: top;\n",
       "    }\n",
       "\n",
       "    .dataframe thead th {\n",
       "        text-align: right;\n",
       "    }\n",
       "</style>\n",
       "<table border=\"1\" class=\"dataframe\">\n",
       "  <thead>\n",
       "    <tr style=\"text-align: right;\">\n",
       "      <th></th>\n",
       "      <th>model</th>\n",
       "      <th>test_accuracy</th>\n",
       "    </tr>\n",
       "  </thead>\n",
       "  <tbody>\n",
       "    <tr>\n",
       "      <th>0</th>\n",
       "      <td>Baseline</td>\n",
       "      <td>0.537</td>\n",
       "    </tr>\n",
       "    <tr>\n",
       "      <th>1</th>\n",
       "      <td>Log_reg: three base features</td>\n",
       "      <td>0.635</td>\n",
       "    </tr>\n",
       "    <tr>\n",
       "      <th>2</th>\n",
       "      <td>Log_reg: with rewards_count</td>\n",
       "      <td>0.745</td>\n",
       "    </tr>\n",
       "    <tr>\n",
       "      <th>3</th>\n",
       "      <td>Log_reg: with ALL features</td>\n",
       "      <td>0.759</td>\n",
       "    </tr>\n",
       "    <tr>\n",
       "      <th>4</th>\n",
       "      <td>Log_reg: top 10 features</td>\n",
       "      <td>0.756</td>\n",
       "    </tr>\n",
       "    <tr>\n",
       "      <th>5</th>\n",
       "      <td>RandomForest: all features</td>\n",
       "      <td>0.787</td>\n",
       "    </tr>\n",
       "    <tr>\n",
       "      <th>6</th>\n",
       "      <td>RandomForest: top 10 features</td>\n",
       "      <td>0.777</td>\n",
       "    </tr>\n",
       "    <tr>\n",
       "      <th>7</th>\n",
       "      <td>LogReg: Bayes Combo</td>\n",
       "      <td>0.679</td>\n",
       "    </tr>\n",
       "    <tr>\n",
       "      <th>8</th>\n",
       "      <td>Knn: top 8 features</td>\n",
       "      <td>0.748</td>\n",
       "    </tr>\n",
       "    <tr>\n",
       "      <th>9</th>\n",
       "      <td>Ensemble: RF, LogR, KNN</td>\n",
       "      <td>0.765</td>\n",
       "    </tr>\n",
       "  </tbody>\n",
       "</table>\n",
       "</div>"
      ],
      "text/plain": [
       "                           model  test_accuracy\n",
       "0                       Baseline          0.537\n",
       "1   Log_reg: three base features          0.635\n",
       "2    Log_reg: with rewards_count          0.745\n",
       "3     Log_reg: with ALL features          0.759\n",
       "4       Log_reg: top 10 features          0.756\n",
       "5     RandomForest: all features          0.787\n",
       "6  RandomForest: top 10 features          0.777\n",
       "7            LogReg: Bayes Combo          0.679\n",
       "8            Knn: top 8 features          0.748\n",
       "9        Ensemble: RF, LogR, KNN          0.765"
      ]
     },
     "execution_count": 169,
     "metadata": {},
     "output_type": "execute_result"
    }
   ],
   "source": [
    "fill_in_res('Ensemble: RF, LogR, KNN', eclf.score(X_test_std_6, y_test))"
   ]
  },
  {
   "cell_type": "code",
   "execution_count": 170,
   "metadata": {},
   "outputs": [
    {
     "data": {
      "text/html": [
       "<div>\n",
       "<style scoped>\n",
       "    .dataframe tbody tr th:only-of-type {\n",
       "        vertical-align: middle;\n",
       "    }\n",
       "\n",
       "    .dataframe tbody tr th {\n",
       "        vertical-align: top;\n",
       "    }\n",
       "\n",
       "    .dataframe thead th {\n",
       "        text-align: right;\n",
       "    }\n",
       "</style>\n",
       "<table border=\"1\" class=\"dataframe\">\n",
       "  <thead>\n",
       "    <tr style=\"text-align: right;\">\n",
       "      <th></th>\n",
       "      <th>model</th>\n",
       "      <th>test_accuracy</th>\n",
       "    </tr>\n",
       "  </thead>\n",
       "  <tbody>\n",
       "    <tr>\n",
       "      <th>5</th>\n",
       "      <td>RandomForest: all features</td>\n",
       "      <td>0.787</td>\n",
       "    </tr>\n",
       "    <tr>\n",
       "      <th>6</th>\n",
       "      <td>RandomForest: top 10 features</td>\n",
       "      <td>0.777</td>\n",
       "    </tr>\n",
       "    <tr>\n",
       "      <th>9</th>\n",
       "      <td>Ensemble: RF, LogR, KNN</td>\n",
       "      <td>0.765</td>\n",
       "    </tr>\n",
       "    <tr>\n",
       "      <th>3</th>\n",
       "      <td>Log_reg: with ALL features</td>\n",
       "      <td>0.759</td>\n",
       "    </tr>\n",
       "    <tr>\n",
       "      <th>4</th>\n",
       "      <td>Log_reg: top 10 features</td>\n",
       "      <td>0.756</td>\n",
       "    </tr>\n",
       "    <tr>\n",
       "      <th>8</th>\n",
       "      <td>Knn: top 8 features</td>\n",
       "      <td>0.748</td>\n",
       "    </tr>\n",
       "    <tr>\n",
       "      <th>2</th>\n",
       "      <td>Log_reg: with rewards_count</td>\n",
       "      <td>0.745</td>\n",
       "    </tr>\n",
       "    <tr>\n",
       "      <th>7</th>\n",
       "      <td>LogReg: Bayes Combo</td>\n",
       "      <td>0.679</td>\n",
       "    </tr>\n",
       "    <tr>\n",
       "      <th>1</th>\n",
       "      <td>Log_reg: three base features</td>\n",
       "      <td>0.635</td>\n",
       "    </tr>\n",
       "    <tr>\n",
       "      <th>0</th>\n",
       "      <td>Baseline</td>\n",
       "      <td>0.537</td>\n",
       "    </tr>\n",
       "  </tbody>\n",
       "</table>\n",
       "</div>"
      ],
      "text/plain": [
       "                           model  test_accuracy\n",
       "5     RandomForest: all features          0.787\n",
       "6  RandomForest: top 10 features          0.777\n",
       "9        Ensemble: RF, LogR, KNN          0.765\n",
       "3     Log_reg: with ALL features          0.759\n",
       "4       Log_reg: top 10 features          0.756\n",
       "8            Knn: top 8 features          0.748\n",
       "2    Log_reg: with rewards_count          0.745\n",
       "7            LogReg: Bayes Combo          0.679\n",
       "1   Log_reg: three base features          0.635\n",
       "0                       Baseline          0.537"
      ]
     },
     "execution_count": 170,
     "metadata": {},
     "output_type": "execute_result"
    }
   ],
   "source": [
    "model_results.sort_values(by='test_accuracy', ascending=False)"
   ]
  },
  {
   "cell_type": "code",
   "execution_count": null,
   "metadata": {},
   "outputs": [],
   "source": []
  }
 ],
 "metadata": {
  "kernelspec": {
   "display_name": "Python 3",
   "language": "python",
   "name": "python3"
  },
  "language_info": {
   "codemirror_mode": {
    "name": "ipython",
    "version": 3
   },
   "file_extension": ".py",
   "mimetype": "text/x-python",
   "name": "python",
   "nbconvert_exporter": "python",
   "pygments_lexer": "ipython3",
   "version": "3.6.4"
  }
 },
 "nbformat": 4,
 "nbformat_minor": 2
}
